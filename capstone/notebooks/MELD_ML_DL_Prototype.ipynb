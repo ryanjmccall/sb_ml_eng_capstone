{
 "cells": [
  {
   "cell_type": "markdown",
   "id": "9befb218",
   "metadata": {},
   "source": [
    "# ML / DL Prototype \n",
    "\n",
    "Time Estimate: 25 - 30 Hours / 50 - 60 Hours (depending on if you decide to build both prototypes)\n",
    "The goal of this step is to find a machine learning or deep learning approach that works for your problem, and then show that the approach you choose is a viable one. Since the application has not been deployed to production yet, we’ll call it a prototype.\n",
    "\n",
    "For this step, you’ll build your prototype in a Jupyter notebook. Depending on your problem, you’ll be using a more ‘traditional’ machine learning (ML) technique or a deep learning (DL) technique. Your goal is to come up with a working implementation of your prototype in a Jupyter notebook. This prototype could work on a subset of the data but demonstrates that your approach to solving the problem is a viable one based on the following criteria:\n",
    "- The data has been reasonably split into training, validation, and test sets.\n",
    "- You have used the correct metric(s) to evaluate the performance of your\n",
    "algorithm.\n",
    "- The performance of your algorithm is ‘good enough’ as determined by your mentor.\n",
    "\n",
    "### Rubric\n",
    "\n",
    "- The submission shows that the student understands how to design, implement, and justify a suitable machine learning and/or deep learning approach to a problem.\n",
    "- The submission demonstrates that the student made thoughtful decisions about validating and testing the approach:\n",
    "    - The data has been reasonably split into training, validation, and test sets\n",
    "    - The ML/DL algorithm chosen for the approach makes sense in the context of the problem\n",
    "    - The student has used the correct metric(s) to evaluate the performance of their algorithm\n",
    "    - The performance of their algorithm is ‘good enough’ to meet the requirements of the business problem\n",
    "\n",
    "- Well-documented GitHub repository and code. The Jupyter notebooks for the code provide step-by-step documentation that’s easy to follow. "
   ]
  },
  {
   "cell_type": "markdown",
   "id": "5be6f0d9",
   "metadata": {},
   "source": [
    "# ML Prototype\n",
    "\n",
    "## Summary\n",
    "In this section I explore the following questions:\n",
    "\n",
    "- Q: What is the best classification objective for the call center use case and performance metric? \n",
    "- Q: What is the fastest model for prototyping? \n",
    "- Q: What is the minimal amount of training data to quickly assess performance?\n",
    "- Q: What is the source of model confusion?\n",
    "- Q: What is the effect of using the librosa features mel, mfcc, chroma, vs the precomputed MELD features?\n",
    "\n",
    "Next I will present the ML prototype as part of a pipeline comprised of several ideas explored previously:\n",
    "- feature extraction with best determined audio limit    \n",
    "- oversampling using ADASYN to rectify class imbalance\n",
    "- feature standardization using QuantileTransformer to correct mel features with right-skewed power-law distributions\n",
    "- PCA to reduce dimensionality \n",
    "- Light Gradient Boosting model\n",
    "    - optimizing with Bayesian hyperparameter search"
   ]
  },
  {
   "cell_type": "code",
   "execution_count": 1,
   "id": "8d924afc-5072-48e9-93de-d60813ba19c6",
   "metadata": {},
   "outputs": [
    {
     "name": "stdout",
     "output_type": "stream",
     "text": [
      "librosa unavailable, must be python 3.7 env\n"
     ]
    }
   ],
   "source": [
    "from math import ceil, floor\n",
    "import warnings\n",
    "warnings.filterwarnings('ignore')\n",
    "\n",
    "from imblearn.over_sampling import ADASYN\n",
    "from imblearn.pipeline import Pipeline \n",
    "try:\n",
    "    import librosa\n",
    "except Exception:\n",
    "    print('librosa unavailable, must be python 3.7 env')\n",
    "import lightgbm as lgb\n",
    "import xgboost as xgb\n",
    "import matplotlib.pyplot as plt\n",
    "import numpy as np\n",
    "import pandas as pd\n",
    "import seaborn as sns\n",
    "from sklearn.decomposition import PCA\n",
    "from sklearn.ensemble import RandomForestClassifier\n",
    "from sklearn.model_selection import train_test_split, cross_val_score, GridSearchCV\n",
    "from sklearn.metrics import (silhouette_score, f1_score, plot_confusion_matrix, \n",
    "                             plot_precision_recall_curve, precision_score, recall_score)\n",
    "from sklearn.preprocessing import QuantileTransformer\n",
    "from skopt import BayesSearchCV\n",
    "from skopt.callbacks import TimerCallback, DeadlineStopper\n",
    "from skopt.space import Real, Categorical, Integer\n",
    "from torch.utils.data import DataLoader, Dataset, random_split\n",
    "from torch.nn import init\n",
    "from torch import nn\n",
    "import torch.nn.functional as F\n",
    "import torch\n",
    "from tqdm.notebook import tqdm_notebook"
   ]
  },
  {
   "cell_type": "markdown",
   "id": "ca909db7-8cca-44b6-a2e9-04e865f201a9",
   "metadata": {},
   "source": [
    "Load dataset including raw audio and previously computed MELD features on best audio limit."
   ]
  },
  {
   "cell_type": "code",
   "execution_count": 2,
   "id": "e08f71ef-af68-4d26-a635-f0ad8be835ba",
   "metadata": {},
   "outputs": [],
   "source": [
    "df = pd.read_pickle('data/features/df.pkl')"
   ]
  },
  {
   "cell_type": "code",
   "execution_count": 3,
   "id": "00c1d282-f1a7-42bd-874a-00acf6e79dcc",
   "metadata": {},
   "outputs": [
    {
     "name": "stdout",
     "output_type": "stream",
     "text": [
      "limit  110250\n",
      "sr  22050.0\n",
      "X  (13700, 160)\n"
     ]
    }
   ],
   "source": [
    "extract_limit = df.extract_limit.values[0]  # previously found good audio limit\n",
    "sr = df.sr.values[0] # sample rate\n",
    "\n",
    "# NB cannot use select_dtypes since features are stored under *int* index *names*\n",
    "X = df[[c for c in df.columns.values if isinstance(c, int)]] #  + ['audio', 'sr']\n",
    "\n",
    "print('limit ', extract_limit)\n",
    "print('sr ', sr)\n",
    "print('X ', X.shape)"
   ]
  },
  {
   "cell_type": "markdown",
   "id": "271ed269-9abe-4133-a9ea-1b54bb273e0a",
   "metadata": {},
   "source": [
    "## Objective\n",
    "\n",
    "In previous notebooks I focused on emotion classification, however I began to question the ability to achieve good performance using this objective. Furthermore, for the call center use case of flagging problematic calls quickly, it is acceptable to make a binary judgement regarding the call. Here I will explore 3 possible objectives: \n",
    "- emotion classification: neutral, ...\n",
    "- sentiment classication: neutral, positive, negative\n",
    "- negativity classification: negative, not-negative, where neutral and positive are mapped to 'not-negative'"
   ]
  },
  {
   "cell_type": "code",
   "execution_count": 4,
   "id": "92087509-b4f9-4577-86b8-dafe074e9e9f",
   "metadata": {},
   "outputs": [
    {
     "data": {
      "text/plain": [
       "neutral     46.956204\n",
       "negative    30.525547\n",
       "positive    22.518248\n",
       "Name: Sentiment, dtype: float64"
      ]
     },
     "execution_count": 4,
     "metadata": {},
     "output_type": "execute_result"
    }
   ],
   "source": [
    "df.Sentiment.value_counts() / sum(df.Sentiment.value_counts()) * 100"
   ]
  },
  {
   "cell_type": "code",
   "execution_count": 5,
   "id": "3facc473-7015-402c-8fb9-ec6fb94bfb33",
   "metadata": {},
   "outputs": [
    {
     "data": {
      "text/html": [
       "<div>\n",
       "<style scoped>\n",
       "    .dataframe tbody tr th:only-of-type {\n",
       "        vertical-align: middle;\n",
       "    }\n",
       "\n",
       "    .dataframe tbody tr th {\n",
       "        vertical-align: top;\n",
       "    }\n",
       "\n",
       "    .dataframe thead th {\n",
       "        text-align: right;\n",
       "    }\n",
       "</style>\n",
       "<table border=\"1\" class=\"dataframe\">\n",
       "  <thead>\n",
       "    <tr style=\"text-align: right;\">\n",
       "      <th></th>\n",
       "      <th>Sentiment</th>\n",
       "      <th>negativity</th>\n",
       "    </tr>\n",
       "  </thead>\n",
       "  <tbody>\n",
       "    <tr>\n",
       "      <th>4822</th>\n",
       "      <td>neutral</td>\n",
       "      <td>0</td>\n",
       "    </tr>\n",
       "    <tr>\n",
       "      <th>8346</th>\n",
       "      <td>neutral</td>\n",
       "      <td>0</td>\n",
       "    </tr>\n",
       "    <tr>\n",
       "      <th>7574</th>\n",
       "      <td>negative</td>\n",
       "      <td>1</td>\n",
       "    </tr>\n",
       "    <tr>\n",
       "      <th>81</th>\n",
       "      <td>neutral</td>\n",
       "      <td>0</td>\n",
       "    </tr>\n",
       "    <tr>\n",
       "      <th>8427</th>\n",
       "      <td>neutral</td>\n",
       "      <td>0</td>\n",
       "    </tr>\n",
       "    <tr>\n",
       "      <th>9067</th>\n",
       "      <td>positive</td>\n",
       "      <td>0</td>\n",
       "    </tr>\n",
       "    <tr>\n",
       "      <th>1237</th>\n",
       "      <td>neutral</td>\n",
       "      <td>0</td>\n",
       "    </tr>\n",
       "    <tr>\n",
       "      <th>858</th>\n",
       "      <td>neutral</td>\n",
       "      <td>0</td>\n",
       "    </tr>\n",
       "    <tr>\n",
       "      <th>5130</th>\n",
       "      <td>negative</td>\n",
       "      <td>1</td>\n",
       "    </tr>\n",
       "    <tr>\n",
       "      <th>5183</th>\n",
       "      <td>neutral</td>\n",
       "      <td>0</td>\n",
       "    </tr>\n",
       "  </tbody>\n",
       "</table>\n",
       "</div>"
      ],
      "text/plain": [
       "     Sentiment  negativity\n",
       "4822   neutral           0\n",
       "8346   neutral           0\n",
       "7574  negative           1\n",
       "81     neutral           0\n",
       "8427   neutral           0\n",
       "9067  positive           0\n",
       "1237   neutral           0\n",
       "858    neutral           0\n",
       "5130  negative           1\n",
       "5183   neutral           0"
      ]
     },
     "execution_count": 5,
     "metadata": {},
     "output_type": "execute_result"
    }
   ],
   "source": [
    "def sentiment_to_negativity(v):\n",
    "    return 1 if v.lower() == 'negative' else 0\n",
    "\n",
    "df['negativity'] = df.Sentiment.apply(sentiment_to_negativity)\n",
    "df[['Sentiment', 'negativity']].sample(10)"
   ]
  },
  {
   "cell_type": "code",
   "execution_count": 6,
   "id": "79da9b52-c776-465c-881b-5261b7449815",
   "metadata": {},
   "outputs": [
    {
     "data": {
      "text/plain": [
       "0    0.694745\n",
       "1    0.305255\n",
       "Name: negativity, dtype: float64"
      ]
     },
     "execution_count": 6,
     "metadata": {},
     "output_type": "execute_result"
    }
   ],
   "source": [
    "df.negativity.value_counts() / df.negativity.value_counts().sum()"
   ]
  },
  {
   "cell_type": "markdown",
   "id": "166de68a-8c1f-4f90-99ea-a1b357638466",
   "metadata": {},
   "source": [
    "### Baseline Classification Performance"
   ]
  },
  {
   "cell_type": "code",
   "execution_count": 7,
   "id": "9a1fa009-160c-4e5f-8646-5488fa928034",
   "metadata": {},
   "outputs": [
    {
     "name": "stdout",
     "output_type": "stream",
     "text": [
      "Emotion always predict \"neutral\" for f1=0.3001\n",
      "Sentiment always predict \"neutral\" for f1=0.3001\n",
      "negativity always predict \"0\" for f1=0.5696\n"
     ]
    }
   ],
   "source": [
    "baseline = dict()\n",
    "labels = ('Emotion', 'Sentiment', 'negativity')\n",
    "for label in labels:\n",
    "    max_class = df[label].value_counts().idxmax()\n",
    "    score = f1_score(df[label], [max_class] * len(df), average='weighted')\n",
    "    baseline[label] = score\n",
    "    print(f'{label} always predict \"{max_class}\" for f1={score:.4f}')"
   ]
  },
  {
   "cell_type": "markdown",
   "id": "1547db55-73c1-4fd9-b6e9-d03b8641b1e3",
   "metadata": {},
   "source": [
    "Now I would to get a reminder of the performance from naive tree-based model..."
   ]
  },
  {
   "cell_type": "code",
   "execution_count": 8,
   "id": "649053ee-3f8b-424c-b17e-0f4026c86a04",
   "metadata": {},
   "outputs": [
    {
     "name": "stdout",
     "output_type": "stream",
     "text": [
      "Emotion 0.3353950103123477\n",
      "Sentiment 0.39965233182724624\n",
      "negativity 0.6047747015178847\n"
     ]
    }
   ],
   "source": [
    "naive = dict()\n",
    "for label in labels:\n",
    "    y = df[label]\n",
    "    X_train, X_test, y_train, y_test = train_test_split(X, y, train_size=0.8, stratify=y, random_state=0)\n",
    "    obj = 'binary' if label == 'negativity' else 'multiclass'\n",
    "    m = lgb.LGBMClassifier(objective=obj, class_weight='balanced', random_state=0, n_jobs=-1)\n",
    "    m.fit(X_train, y_train)\n",
    "    score = f1_score(y_test, m.predict(X_test), average='weighted')\n",
    "    print(label, score)\n",
    "    naive[label] = score"
   ]
  },
  {
   "cell_type": "code",
   "execution_count": 9,
   "id": "4079c9e7-6dc1-4cab-850a-1465c4bae3d8",
   "metadata": {},
   "outputs": [
    {
     "name": "stdout",
     "output_type": "stream",
     "text": [
      "Emotion 0.03532123812367971\n",
      "Sentiment 0.09957855963857826\n",
      "negativity 0.035166777135027916\n"
     ]
    }
   ],
   "source": [
    "for label in labels:\n",
    "    print(label, naive[label] - baseline[label])"
   ]
  },
  {
   "cell_type": "markdown",
   "id": "4be1cdef-f4a1-4858-850d-ddc094b6abf1",
   "metadata": {},
   "source": [
    "Looks like Sentiment can be more easily classified but I will have to check the confusion matrix to see if this corresponds to the neutral/positive classes vs. the negative."
   ]
  },
  {
   "cell_type": "markdown",
   "id": "55fce0ca-ad17-4473-8ffe-3c28ccdebe00",
   "metadata": {},
   "source": [
    "## Prototyping\n",
    "\n",
    "I want to be able to quickly test ideas. First I will check model training speed of the various tree models I'd like to try."
   ]
  },
  {
   "cell_type": "code",
   "execution_count": 36,
   "id": "d76225eb-c59d-4b88-a9c2-ad7e8ce6aa76",
   "metadata": {},
   "outputs": [
    {
     "name": "stdout",
     "output_type": "stream",
     "text": [
      "2.95 s ± 88.6 ms per loop (mean ± std. dev. of 7 runs, 1 loop each)\n"
     ]
    }
   ],
   "source": [
    "%%timeit\n",
    "lgb.LGBMClassifier(objective='multiclass', class_weight='balanced', random_state=0, n_jobs=-1).fit(X, y=df.Emotion)"
   ]
  },
  {
   "cell_type": "code",
   "execution_count": 31,
   "id": "c6e79171-9933-4e6b-9558-5e57080bf9b6",
   "metadata": {},
   "outputs": [
    {
     "name": "stdout",
     "output_type": "stream",
     "text": [
      "1.3 s ± 87.1 ms per loop (mean ± std. dev. of 7 runs, 1 loop each)\n"
     ]
    }
   ],
   "source": [
    "%%timeit\n",
    "lgb.LGBMClassifier(objective='multiclass', class_weight='balanced', random_state=0, n_jobs=-1).fit(X, y=df.Sentiment)"
   ]
  },
  {
   "cell_type": "code",
   "execution_count": 34,
   "id": "afc12ec1-e111-47e2-8d0a-07e33c81cbf5",
   "metadata": {},
   "outputs": [
    {
     "name": "stdout",
     "output_type": "stream",
     "text": [
      "446 ms ± 25.6 ms per loop (mean ± std. dev. of 7 runs, 1 loop each)\n"
     ]
    }
   ],
   "source": [
    "%%timeit\n",
    "lgb.LGBMClassifier(objective='binary', class_weight='balanced', random_state=0, n_jobs=-1).fit(X, y=df.negativity)"
   ]
  },
  {
   "cell_type": "code",
   "execution_count": 37,
   "id": "25f7f2bd-d67b-4bfd-b973-17b144968c6f",
   "metadata": {},
   "outputs": [
    {
     "name": "stdout",
     "output_type": "stream",
     "text": [
      "2.96 s ± 69.7 ms per loop (mean ± std. dev. of 7 runs, 1 loop each)\n"
     ]
    }
   ],
   "source": [
    "%%timeit\n",
    "RandomForestClassifier(class_weight='balanced', random_state=0, n_jobs=-1).fit(X, y=df.Emotion)"
   ]
  },
  {
   "cell_type": "code",
   "execution_count": 32,
   "id": "5738fc03-bb9d-4d23-b0d2-fb25756abfd1",
   "metadata": {},
   "outputs": [
    {
     "name": "stdout",
     "output_type": "stream",
     "text": [
      "2.42 s ± 26.1 ms per loop (mean ± std. dev. of 7 runs, 1 loop each)\n"
     ]
    }
   ],
   "source": [
    "%%timeit\n",
    "RandomForestClassifier(class_weight='balanced', random_state=0, n_jobs=-1).fit(X, y=df.Sentiment)"
   ]
  },
  {
   "cell_type": "code",
   "execution_count": 35,
   "id": "57938970-a2e5-4b7b-b212-68a6640489f1",
   "metadata": {},
   "outputs": [
    {
     "name": "stdout",
     "output_type": "stream",
     "text": [
      "2.09 s ± 119 ms per loop (mean ± std. dev. of 7 runs, 1 loop each)\n"
     ]
    }
   ],
   "source": [
    "%%timeit\n",
    "RandomForestClassifier(class_weight='balanced', random_state=0, n_jobs=-1).fit(X, y=df.negativity)"
   ]
  },
  {
   "cell_type": "markdown",
   "id": "1cb1b240-ad74-41cc-b273-7ce3924de156",
   "metadata": {},
   "source": [
    "Results of speed test:\n",
    "Objective-wise: Emotion > Sentiment > negativity. Model-wise, RF > LGBM\n",
    "\n",
    "So I will focus on the LGBM on Sentiment and negativity labels."
   ]
  },
  {
   "cell_type": "markdown",
   "id": "fd2de24f-24f2-45a2-866f-a34823ecc5b8",
   "metadata": {},
   "source": [
    "### Subsampling\n",
    "\n",
    "Can I reduce the training size and still get comparable performance in a short amount of time?\n",
    "Specifically, I will look at the effect of train size on the std of cross-val scores. Also, the effect of train size on test set perf."
   ]
  },
  {
   "cell_type": "code",
   "execution_count": 59,
   "id": "129f114b-46fb-4ef0-9124-985114fcddc6",
   "metadata": {},
   "outputs": [],
   "source": [
    "def get_model(binary: bool=False):\n",
    "    obj = 'binary' if binary else 'multiclass'\n",
    "    return lgb.LGBMClassifier(objective=obj, class_weight='balanced', random_state=0, n_jobs=-1)\n",
    "\n",
    "\n",
    "def experiment_subsampling(sizes, X, y, binary=False):\n",
    "    \"\"\"For given range of training sizes, plots CV scores and test scores.\"\"\"\n",
    "    results = []\n",
    "    for size in tqdm_notebook(sizes):\n",
    "        X_train, X_test, y_train, y_test = train_test_split(X, y, train_size=size, stratify=y, random_state=0)\n",
    "        scores = cross_val_score(get_model(binary), X_train, y_train, scoring='f1_weighted', cv=5, n_jobs=-1)\n",
    "\n",
    "        model = get_model(binary).fit(X_train, y_train)\n",
    "        skill = f1_score(y_test, model.predict(X_test), average='weighted')\n",
    "        results.append((size, np.mean(scores), np.std(scores), scores, skill))\n",
    "\n",
    "    res_df = pd.DataFrame(results, columns=['size', 'mean-score', 'std', 'scores', 'test'])\n",
    "    res_df.plot(x='size', y='mean-score', yerr='std');\n",
    "    res_df.plot(x='size', y='test');"
   ]
  },
  {
   "cell_type": "code",
   "execution_count": 42,
   "id": "dcf2afa4-3ed8-4845-8b1e-3570d7cebbbb",
   "metadata": {},
   "outputs": [
    {
     "data": {
      "application/vnd.jupyter.widget-view+json": {
       "model_id": "c986bebe65db407c92f2ffe16f8b3aff",
       "version_major": 2,
       "version_minor": 0
      },
      "text/plain": [
       "  0%|          | 0/10 [00:00<?, ?it/s]"
      ]
     },
     "metadata": {},
     "output_type": "display_data"
    },
    {
     "data": {
      "image/png": "[encoded data removed]",
      "text/plain": [
       "<Figure size 432x288 with 1 Axes>"
      ]
     },
     "metadata": {
      "needs_background": "light"
     },
     "output_type": "display_data"
    },
    {
     "data": {
      "image/png": "[encoded data removed]",
      "text/plain": [
       "<Figure size 432x288 with 1 Axes>"
      ]
     },
     "metadata": {
      "needs_background": "light"
     },
     "output_type": "display_data"
    }
   ],
   "source": [
    "experiment_subsampling(np.linspace(0.05, 0.8, 10), X, y=df.Sentiment)"
   ]
  },
  {
   "cell_type": "code",
   "execution_count": 43,
   "id": "ded7c59d-d05f-468a-819b-bf52c3e778bb",
   "metadata": {},
   "outputs": [
    {
     "data": {
      "application/vnd.jupyter.widget-view+json": {
       "model_id": "f3458d455aa54f7486597e7c54dd9e5e",
       "version_major": 2,
       "version_minor": 0
      },
      "text/plain": [
       "  0%|          | 0/10 [00:00<?, ?it/s]"
      ]
     },
     "metadata": {},
     "output_type": "display_data"
    },
    {
     "data": {
      "image/png": "[encoded data removed]",
      "text/plain": [
       "<Figure size 432x288 with 1 Axes>"
      ]
     },
     "metadata": {
      "needs_background": "light"
     },
     "output_type": "display_data"
    },
    {
     "data": {
      "image/png": "[encoded data removed]",
      "text/plain": [
       "<Figure size 432x288 with 1 Axes>"
      ]
     },
     "metadata": {
      "needs_background": "light"
     },
     "output_type": "display_data"
    }
   ],
   "source": [
    "experiment_subsampling(np.linspace(0.1, 0.3, 10), X, y=df.Sentiment)"
   ]
  },
  {
   "cell_type": "markdown",
   "id": "9cf97bee-d689-4f1f-97a7-dbb90adc58fb",
   "metadata": {},
   "source": [
    "For Sentiment classification the CV variance and test score seems good for even with 10% of the data. The test score is better for more data is greater, but it's only about 0.01 F1."
   ]
  },
  {
   "cell_type": "code",
   "execution_count": 47,
   "id": "cdc8b8d5-0504-444d-a78b-2932f9a816cf",
   "metadata": {},
   "outputs": [
    {
     "data": {
      "application/vnd.jupyter.widget-view+json": {
       "model_id": "52f04e285c774b0f8d8868d1a3736b94",
       "version_major": 2,
       "version_minor": 0
      },
      "text/plain": [
       "  0%|          | 0/10 [00:00<?, ?it/s]"
      ]
     },
     "metadata": {},
     "output_type": "display_data"
    },
    {
     "data": {
      "image/png": "[encoded data removed]",
      "text/plain": [
       "<Figure size 432x288 with 1 Axes>"
      ]
     },
     "metadata": {
      "needs_background": "light"
     },
     "output_type": "display_data"
    },
    {
     "data": {
      "image/png": "[encoded data removed]",
      "text/plain": [
       "<Figure size 432x288 with 1 Axes>"
      ]
     },
     "metadata": {
      "needs_background": "light"
     },
     "output_type": "display_data"
    }
   ],
   "source": [
    "experiment_subsampling(np.linspace(0.05, 0.8, 10), X, y=df.negativity, binary=True)"
   ]
  },
  {
   "cell_type": "code",
   "execution_count": 65,
   "id": "83dd1943-dfe2-4f8c-9e48-0b88b70df13e",
   "metadata": {},
   "outputs": [
    {
     "data": {
      "application/vnd.jupyter.widget-view+json": {
       "model_id": "baed8162ad404e12b1499913536cf346",
       "version_major": 2,
       "version_minor": 0
      },
      "text/plain": [
       "  0%|          | 0/10 [00:00<?, ?it/s]"
      ]
     },
     "metadata": {},
     "output_type": "display_data"
    },
    {
     "data": {
      "image/png": "[encoded data removed]",
      "text/plain": [
       "<Figure size 432x288 with 1 Axes>"
      ]
     },
     "metadata": {
      "needs_background": "light"
     },
     "output_type": "display_data"
    },
    {
     "data": {
      "image/png": "[encoded data removed]",
      "text/plain": [
       "<Figure size 432x288 with 1 Axes>"
      ]
     },
     "metadata": {
      "needs_background": "light"
     },
     "output_type": "display_data"
    }
   ],
   "source": [
    "experiment_subsampling(np.linspace(0.05, 0.2, 10), X, y=df.negativity, binary=True)"
   ]
  },
  {
   "cell_type": "markdown",
   "id": "45cfe351-2e0f-4fec-a2ea-2ab880512de4",
   "metadata": {},
   "source": [
    "About 10% of the data can also be sufficient in assessing negativity."
   ]
  },
  {
   "cell_type": "markdown",
   "id": "e7415d16-2a09-442e-9bc0-b74d8951a3a0",
   "metadata": {},
   "source": [
    "## Model Confusion\n",
    "\n",
    "Let's take a close look at the errors in classification using the confusion matrix, precision, recall, and ROC AUC metrics.\n",
    "\n",
    "Here I favor ROC AUC over PR AUC since the classes are not highly imbalanced (cf https://machinelearningmastery.com/roc-curves-and-precision-recall-curves-for-imbalanced-classification/)\n",
    "\n",
    "### Sentiment"
   ]
  },
  {
   "cell_type": "code",
   "execution_count": 62,
   "id": "92dbd76b-8005-4b3e-b86d-ce48be17ffc0",
   "metadata": {},
   "outputs": [],
   "source": [
    "sent_model = get_model()\n",
    "y = df.Sentiment\n",
    "X_train, X_test, y_train, y_test = train_test_split(X, y, train_size=0.8, stratify=y, random_state=0)\n",
    "sent_model.fit(X_train, y_train)\n",
    "y_pred = sent_model.predict(X_test)"
   ]
  },
  {
   "cell_type": "code",
   "execution_count": 63,
   "id": "074ecced-a810-4ec1-a84b-cc521728fee7",
   "metadata": {},
   "outputs": [
    {
     "data": {
      "text/plain": [
       "'prec=0.3956 rec=0.4058'"
      ]
     },
     "execution_count": 63,
     "metadata": {},
     "output_type": "execute_result"
    }
   ],
   "source": [
    "prec = precision_score(y_test, y_pred, average='weighted')\n",
    "rec = recall_score(y_test, y_pred, average='weighted')\n",
    "f'prec={prec:.4f} rec={rec:.4f}'"
   ]
  },
  {
   "cell_type": "code",
   "execution_count": 64,
   "id": "5fa898b5-e857-4aa8-b059-66aca2d9a3e8",
   "metadata": {},
   "outputs": [
    {
     "data": {
      "image/png": "[encoded data removed]",
      "text/plain": [
       "<Figure size 432x288 with 2 Axes>"
      ]
     },
     "metadata": {
      "needs_background": "light"
     },
     "output_type": "display_data"
    }
   ],
   "source": [
    "plot_confusion_matrix(sent_model, X_test, y_test);"
   ]
  },
  {
   "cell_type": "markdown",
   "id": "a2a9952a-b554-45d3-8d4c-768f4baf08fe",
   "metadata": {},
   "source": [
    "Precision/recall are about the same. In the confusion matrix we see negative labels are getting confusing mainly as 'neutral' but also with positive.\n",
    "\n",
    "Focusing on the negative class, there were 291 correct predictions, 545 false negatives, and 491 false positives"
   ]
  },
  {
   "cell_type": "markdown",
   "id": "69de2b85-8d95-42a8-9446-5c2da0f133d3",
   "metadata": {},
   "source": [
    "### Negativity "
   ]
  },
  {
   "cell_type": "code",
   "execution_count": 66,
   "id": "82851a63-cbc0-440c-bdcc-45f893a64a04",
   "metadata": {},
   "outputs": [],
   "source": [
    "neg_model = get_model(binary=True)\n",
    "y = df.negativity\n",
    "X_train, X_test, y_train, y_test = train_test_split(X, y, train_size=0.8, stratify=y, random_state=0)\n",
    "neg_model.fit(X_train, y_train)\n",
    "y_pred = neg_model.predict(X_test)"
   ]
  },
  {
   "cell_type": "code",
   "execution_count": 67,
   "id": "7888e3e2-a7a3-413c-b386-f727e3aadbf4",
   "metadata": {},
   "outputs": [
    {
     "data": {
      "text/plain": [
       "'prec=0.6052 rec=0.6044'"
      ]
     },
     "execution_count": 67,
     "metadata": {},
     "output_type": "execute_result"
    }
   ],
   "source": [
    "prec = precision_score(y_test, y_pred, average='weighted')\n",
    "rec = recall_score(y_test, y_pred, average='weighted')\n",
    "f'prec={prec:.4f} rec={rec:.4f}'"
   ]
  },
  {
   "cell_type": "code",
   "execution_count": 68,
   "id": "496f5ceb-4386-45d2-8b72-9efae735a747",
   "metadata": {},
   "outputs": [
    {
     "data": {
      "image/png": "[encoded data removed]",
      "text/plain": [
       "<Figure size 432x288 with 2 Axes>"
      ]
     },
     "metadata": {
      "needs_background": "light"
     },
     "output_type": "display_data"
    }
   ],
   "source": [
    "plot_confusion_matrix(neg_model, X_test, y_test);"
   ]
  },
  {
   "cell_type": "markdown",
   "id": "aa93f041-2ed9-4c06-aa87-61fd37843f4b",
   "metadata": {},
   "source": [
    "For negativity the error types occur in equal number but the positive class is predicted much less accurately than the negative class.\n",
    "\n",
    "There were slightly more true positives at 297 and about the same false negatives and false positives.\n",
    "\n",
    "For educational purpose, here's the ROC curve for the classifier as well:"
   ]
  },
  {
   "cell_type": "code",
   "execution_count": 76,
   "id": "a5569e75-922a-4e26-95d3-4a428b520cc5",
   "metadata": {},
   "outputs": [
    {
     "data": {
      "image/png": "[encoded data removed]",
      "text/plain": [
       "<Figure size 432x288 with 1 Axes>"
      ]
     },
     "metadata": {
      "needs_background": "light"
     },
     "output_type": "display_data"
    }
   ],
   "source": [
    "from sklearn.metrics import roc_curve, roc_auc_score\n",
    "\n",
    "yhat = neg_model.predict_proba(X_test)\n",
    "# retrieve just the probabilities for the positive class\n",
    "pos_probs = yhat[:, 1]\n",
    "fpr, tpr, _ = roc_curve(y_test, pos_probs)\n",
    "\n",
    "plt.plot([0, 1], [0, 1], linestyle='--', label='No Skill')\n",
    "plt.plot(fpr, tpr, marker='.', label='Classifier')\n",
    "plt.xlabel('False Positive Rate')\n",
    "plt.ylabel('True Positive Rate')\n",
    "plt.legend()\n",
    "plt.show();"
   ]
  },
  {
   "cell_type": "code",
   "execution_count": 77,
   "id": "9176e717-5a60-4cff-8c1e-a9d59ec74b07",
   "metadata": {},
   "outputs": [
    {
     "data": {
      "text/plain": [
       "0.544000165855816"
      ]
     },
     "execution_count": 77,
     "metadata": {},
     "output_type": "execute_result"
    }
   ],
   "source": [
    "roc_auc_score(y_test, pos_probs)"
   ]
  },
  {
   "cell_type": "markdown",
   "id": "878eaf66-38da-48b0-ab80-fb95c2452733",
   "metadata": {},
   "source": [
    "## Librosa Feature vs. MELD features \n",
    "\n",
    "In the data wrangling notebook, I explored using melspectrogram, mfcc, and chroma features using the librosa library. The MELD data set provides its own precomptuted features described as:\n",
    "\n",
    "audio_embeddings_feature_selection_emotion.pkl,audio_embeddings_feature_selection_sentiment.pkl - It consists of 1611/1422 dimensional audio feature vectors of each utterance trained for emotion/sentiment classification. These features are originally extracted from openSMILE and then followed by L2-based feature selection using SVM. It is a list comprising of 3 dictionaries for train, val and the test set with each dictionary indexed in the format dia_utt, where dia is the dialogue id and utt is the utterance id. For eg. train_audio_emb['0_0'].shape = (1611, ) or (1422, )\n",
    "\n",
    "Here I will satisfy my curiosity as to whether the librosa features stack up to the MELD openSMILE features. "
   ]
  },
  {
   "cell_type": "code",
   "execution_count": 79,
   "id": "b85fd53b-7318-4801-a5bb-9025cfa3f553",
   "metadata": {},
   "outputs": [
    {
     "name": "stdout",
     "output_type": "stream",
     "text": [
      "emotion  size  9989\n",
      "emotion  size  1109\n",
      "emotion  size  2610\n",
      "sentiment  size  9989\n",
      "sentiment  size  1109\n",
      "sentiment  size  2610\n"
     ]
    }
   ],
   "source": [
    "import pickle\n",
    "\n",
    "path = 'data/meld_features/audio_embeddings_feature_selection_{}.pkl'\n",
    "all_features = []\n",
    "for label in ('emotion', 'sentiment'):  \n",
    "    f = path.format(label)\n",
    "    datasets = pickle.load(open(f, 'rb'))\n",
    "    for ds in datasets:\n",
    "        tmp = pd.DataFrame(data=ds.items(), columns=['dia_utt', label + '_features'])\n",
    "        all_features.append(tmp)\n",
    "        print(label, ' size ', len(ds))"
   ]
  },
  {
   "cell_type": "code",
   "execution_count": 80,
   "id": "fc275f05-8202-4f54-ab64-8ac137459bb0",
   "metadata": {},
   "outputs": [
    {
     "name": "stdout",
     "output_type": "stream",
     "text": [
      "['dia_utt' 'emotion_features']\n",
      "['dia_utt' 'emotion_features']\n",
      "['dia_utt' 'emotion_features']\n",
      "['dia_utt' 'sentiment_features']\n",
      "['dia_utt' 'sentiment_features']\n",
      "['dia_utt' 'sentiment_features']\n"
     ]
    }
   ],
   "source": [
    "for d in all_features:\n",
    "    print(d.columns.values)"
   ]
  },
  {
   "cell_type": "code",
   "execution_count": 81,
   "id": "71860e8a-974f-431f-9dea-e03fb6968219",
   "metadata": {},
   "outputs": [
    {
     "data": {
      "text/plain": [
       "(13708, 14)"
      ]
     },
     "execution_count": 81,
     "metadata": {},
     "output_type": "execute_result"
    }
   ],
   "source": [
    "from functools import reduce\n",
    "\n",
    "train_df = pd.read_csv('data/train_labels.csv')\n",
    "dev_df = pd.read_csv('data/dev_labels.csv')\n",
    "test_df = pd.read_csv('data/test_labels.csv')\n",
    "labels_dfs = (train_df, dev_df, test_df)\n",
    "\n",
    "emo_features = all_features[:3]\n",
    "sent_features = all_features[3:]\n",
    "\n",
    "joins = []\n",
    "for labels, emo_feats, sent_feats in zip(labels_dfs, emo_features, sent_features):\n",
    "    cols = ['Dialogue_ID', 'Utterance_ID']\n",
    "    labels['dia_utt'] = labels[cols].apply(lambda r: '_'.join(r.values.astype(str)), axis=1)\n",
    "    \n",
    "    # of the 6 feature sets we have join 1 here, later I will concat them into 1\n",
    "    ds_joined = reduce(lambda a, b: pd.merge(a, b, on='dia_utt'), [labels, emo_feats, sent_feats])\n",
    "    joins.append(ds_joined)\n",
    "\n",
    "emb_df = pd.concat(joins)\n",
    "emb_df.shape"
   ]
  },
  {
   "cell_type": "code",
   "execution_count": 82,
   "id": "41adf73b-e783-429c-bc8e-1c7b55f4cf97",
   "metadata": {},
   "outputs": [
    {
     "data": {
      "text/html": [
       "<div>\n",
       "<style scoped>\n",
       "    .dataframe tbody tr th:only-of-type {\n",
       "        vertical-align: middle;\n",
       "    }\n",
       "\n",
       "    .dataframe tbody tr th {\n",
       "        vertical-align: top;\n",
       "    }\n",
       "\n",
       "    .dataframe thead th {\n",
       "        text-align: right;\n",
       "    }\n",
       "</style>\n",
       "<table border=\"1\" class=\"dataframe\">\n",
       "  <thead>\n",
       "    <tr style=\"text-align: right;\">\n",
       "      <th></th>\n",
       "      <th>Sr No.</th>\n",
       "      <th>Utterance</th>\n",
       "      <th>Speaker</th>\n",
       "      <th>Emotion</th>\n",
       "      <th>Sentiment</th>\n",
       "      <th>Dialogue_ID</th>\n",
       "      <th>Utterance_ID</th>\n",
       "      <th>Season</th>\n",
       "      <th>Episode</th>\n",
       "      <th>StartTime</th>\n",
       "      <th>EndTime</th>\n",
       "      <th>dia_utt</th>\n",
       "      <th>emotion_features</th>\n",
       "      <th>sentiment_features</th>\n",
       "    </tr>\n",
       "  </thead>\n",
       "  <tbody>\n",
       "    <tr>\n",
       "      <th>0</th>\n",
       "      <td>1</td>\n",
       "      <td>also I was the point person on my companys tr...</td>\n",
       "      <td>Chandler</td>\n",
       "      <td>neutral</td>\n",
       "      <td>neutral</td>\n",
       "      <td>0</td>\n",
       "      <td>0</td>\n",
       "      <td>8</td>\n",
       "      <td>21</td>\n",
       "      <td>00:16:16,059</td>\n",
       "      <td>00:16:21,731</td>\n",
       "      <td>0_0</td>\n",
       "      <td>[0.579978439650127, 0.9748008896749043, 0.1564...</td>\n",
       "      <td>[0.579978439650127, 0.9748008896749043, 0.1564...</td>\n",
       "    </tr>\n",
       "  </tbody>\n",
       "</table>\n",
       "</div>"
      ],
      "text/plain": [
       "   Sr No.                                          Utterance   Speaker  \\\n",
       "0       1  also I was the point person on my companys tr...  Chandler   \n",
       "\n",
       "   Emotion Sentiment  Dialogue_ID  Utterance_ID  Season  Episode  \\\n",
       "0  neutral   neutral            0             0       8       21   \n",
       "\n",
       "      StartTime       EndTime dia_utt  \\\n",
       "0  00:16:16,059  00:16:21,731     0_0   \n",
       "\n",
       "                                    emotion_features  \\\n",
       "0  [0.579978439650127, 0.9748008896749043, 0.1564...   \n",
       "\n",
       "                                  sentiment_features  \n",
       "0  [0.579978439650127, 0.9748008896749043, 0.1564...  "
      ]
     },
     "execution_count": 82,
     "metadata": {},
     "output_type": "execute_result"
    }
   ],
   "source": [
    "emb_df.head(1)"
   ]
  },
  {
   "cell_type": "markdown",
   "id": "c9873a78-0788-4d12-b960-5c8b99eb4d2f",
   "metadata": {},
   "source": [
    "OK, so now I have loaded all the precomputed MELD features into a single DF."
   ]
  },
  {
   "cell_type": "code",
   "execution_count": 83,
   "id": "affe005e-db12-45cc-9607-4f41aa3a47ca",
   "metadata": {},
   "outputs": [
    {
     "data": {
      "text/plain": [
       "((13708,), (13708,))"
      ]
     },
     "execution_count": 83,
     "metadata": {},
     "output_type": "execute_result"
    }
   ],
   "source": [
    "from sklearn.preprocessing import LabelEncoder\n",
    "\n",
    "y_emo = LabelEncoder().fit_transform(emb_df['Emotion'])\n",
    "y_sent = LabelEncoder().fit_transform(emb_df['Sentiment'])\n",
    "y_emo.shape, y_sent.shape"
   ]
  },
  {
   "cell_type": "code",
   "execution_count": 84,
   "id": "897f03ba-4097-48ca-8c44-a768b08a129e",
   "metadata": {},
   "outputs": [
    {
     "data": {
      "text/plain": [
       "((13708, 1611), (13708, 1422))"
      ]
     },
     "execution_count": 84,
     "metadata": {},
     "output_type": "execute_result"
    }
   ],
   "source": [
    "X_emo = np.array([f for f in emb_df['emotion_features'].values])\n",
    "X_sent = np.array([f for f in emb_df['sentiment_features'].values])\n",
    "X_emo.shape, X_sent.shape"
   ]
  },
  {
   "cell_type": "code",
   "execution_count": 85,
   "id": "d08b805f-c968-47c9-b6bb-bc649d81eba0",
   "metadata": {},
   "outputs": [],
   "source": [
    "from sklearn.metrics import silhouette_score\n",
    "\n",
    "emo_sil = silhouette_score(X_emo, y_emo)\n",
    "sent_sil = silhouette_score(X_sent, y_sent)"
   ]
  },
  {
   "cell_type": "code",
   "execution_count": 86,
   "id": "3f150994-74c2-4deb-ae7a-dae0785b6bee",
   "metadata": {},
   "outputs": [
    {
     "name": "stdout",
     "output_type": "stream",
     "text": [
      "emo sil  -0.01453310196481637  sent sil  -0.0018931991703444366\n"
     ]
    }
   ],
   "source": [
    "print('emo sil ', emo_sil, ' sent sil ', sent_sil)"
   ]
  },
  {
   "cell_type": "markdown",
   "id": "aea00c42-6493-4ae1-868d-10fc5c594e0a",
   "metadata": {},
   "source": [
    "So these precomputed features have slightly better sil scores than the librosa features I computed in the earlier data exploration on emotion:\n",
    "- mel -0.04264662\n",
    "- mfcc -0.041319244\n",
    "- chroma -0.030214868\n",
    "\n",
    "I've never computed sentiment silhouette score before so I don't have a comparison with the librosa features.\n",
    "Also, instead of 160 features as with librosa there are about 10X the number of precomputed features. Given this large number of features, I will try PCA to determine if they can be reduced."
   ]
  },
  {
   "cell_type": "code",
   "execution_count": 87,
   "id": "49d074e5-ea60-4260-b181-523f2f8d8396",
   "metadata": {},
   "outputs": [],
   "source": [
    "def run_pca(X, y, c_s):\n",
    "    scores = []\n",
    "    for c in tqdm_notebook(c_s):\n",
    "        pca = PCA(n_components=c)\n",
    "        reduced = pca.fit_transform(X)\n",
    "        scores.append(silhouette_score(reduced, y))   \n",
    "    return scores"
   ]
  },
  {
   "cell_type": "code",
   "execution_count": 85,
   "id": "97737850-6d31-4319-85b4-9596aa9f55cb",
   "metadata": {},
   "outputs": [
    {
     "data": {
      "application/vnd.jupyter.widget-view+json": {
       "model_id": "d73575b61c64424b9e45f9be7584231d",
       "version_major": 2,
       "version_minor": 0
      },
      "text/plain": [
       "  0%|          | 0/15 [00:00<?, ?it/s]"
      ]
     },
     "metadata": {},
     "output_type": "display_data"
    },
    {
     "data": {
      "image/png": "[encoded data removed]",
      "text/plain": [
       "<Figure size 432x288 with 1 Axes>"
      ]
     },
     "metadata": {
      "needs_background": "light"
     },
     "output_type": "display_data"
    }
   ],
   "source": [
    "c_s = list(range(50, 411, 25))  # 1611\n",
    "scores = run_pca(X_emo, y_emo, c_s)\n",
    "plt.plot(c_s, scores)\n",
    "plt.title('Emotion embeddings cluster separation')\n",
    "plt.xlabel('Components')\n",
    "plt.ylabel('Silhouette Score')\n",
    "plt.show();"
   ]
  },
  {
   "cell_type": "code",
   "execution_count": 86,
   "id": "48bb2a37-559e-42a8-90b3-2207dcaa0e72",
   "metadata": {},
   "outputs": [
    {
     "data": {
      "application/vnd.jupyter.widget-view+json": {
       "model_id": "7277b9e7e9ab4e5db34b6cdef86f787b",
       "version_major": 2,
       "version_minor": 0
      },
      "text/plain": [
       "  0%|          | 0/15 [00:00<?, ?it/s]"
      ]
     },
     "metadata": {},
     "output_type": "display_data"
    },
    {
     "data": {
      "image/png": "[encoded data removed]",
      "text/plain": [
       "<Figure size 432x288 with 1 Axes>"
      ]
     },
     "metadata": {
      "needs_background": "light"
     },
     "output_type": "display_data"
    }
   ],
   "source": [
    "c_s = list(range(40, 411, 25))  # 1422\n",
    "scores = run_pca(X_sent, y_sent, c_s)\n",
    "plt.plot(c_s, scores)\n",
    "plt.title('Sentiment embeddings cluster separation')\n",
    "plt.xlabel('Components')\n",
    "plt.ylabel('Silhouette Score')\n",
    "plt.show();"
   ]
  },
  {
   "cell_type": "markdown",
   "id": "245495c7-e84b-4bd6-973b-9a298a7bfbe4",
   "metadata": {},
   "source": [
    "The sentiment embeddings do better than the emotion embeddings. While there are way more features than \n",
    "librosa mel, mfcc, and chroma I can use PCA and reduce it to say 50 features without much drop in cluster separation.\n",
    "\n",
    "I am curious to know how the sentiment embeddings perform with a model for the sentiment classification as compared to the scores from the librosa features found earlier."
   ]
  },
  {
   "cell_type": "code",
   "execution_count": 89,
   "id": "dd75effd-b12f-44bb-a2d3-31c2509c6eb7",
   "metadata": {},
   "outputs": [],
   "source": [
    "sent_emb_model = get_model()\n",
    "X_train, X_test, y_train, y_test = train_test_split(X_sent, y_sent, train_size=0.8, stratify=y_sent, random_state=0)\n",
    "sent_emb_model.fit(X_train, y_train)\n",
    "y_pred = sent_emb_model.predict(X_test)"
   ]
  },
  {
   "cell_type": "code",
   "execution_count": 90,
   "id": "fe068f8d-a767-4c20-80ca-1fee57b6c9f3",
   "metadata": {},
   "outputs": [
    {
     "data": {
      "text/plain": [
       "'prec=0.4970 rec=0.5109'"
      ]
     },
     "execution_count": 90,
     "metadata": {},
     "output_type": "execute_result"
    }
   ],
   "source": [
    "prec = precision_score(y_test, y_pred, average='weighted')\n",
    "rec = recall_score(y_test, y_pred, average='weighted')\n",
    "f'prec={prec:.4f} rec={rec:.4f}'"
   ]
  },
  {
   "cell_type": "markdown",
   "id": "2814e0c2-06c1-4b98-ae5a-82710bec9d17",
   "metadata": {},
   "source": [
    "With the librosa features I got: 'prec=0.3956 rec=0.4058' which is about 0.1 higher in F1 score."
   ]
  },
  {
   "cell_type": "code",
   "execution_count": 91,
   "id": "85b61751-180f-468b-ba78-6324d42a46d9",
   "metadata": {},
   "outputs": [
    {
     "data": {
      "image/png": "[encoded data removed]",
      "text/plain": [
       "<Figure size 432x288 with 2 Axes>"
      ]
     },
     "metadata": {
      "needs_background": "light"
     },
     "output_type": "display_data"
    }
   ],
   "source": [
    "plot_confusion_matrix(sent_emb_model, X_test, y_test);"
   ]
  },
  {
   "cell_type": "markdown",
   "id": "566a9e5f-6542-4fc1-b54f-6b9b29226b8b",
   "metadata": {},
   "source": [
    "While 'better' in F1, the drawbacks of the MELD embeddings are:\n",
    "- not easily reproducible \n",
    "- can't use partial / prefix audio\n",
    "- larger number of features -> longer training time\n",
    "\n",
    "But they do suggest that fine tuning the feature extraction could provide some small gains in performance. "
   ]
  },
  {
   "cell_type": "markdown",
   "id": "e573aedc-4221-4d50-bb7f-7f80e1c6dda0",
   "metadata": {},
   "source": [
    "## Librosa Extraction Tuning\n",
    "\n",
    "The following extraction hyperparameters can be tuned: \n",
    "\n",
    "mfcc \n",
    "- n_mfcc in [13, 26] \n",
    "- dct_type in [1, 2, 3]\n",
    "\n",
    "chroma_stft\n",
    "- n_fft=220 for .01 s and 2205 for .1 s, hop length can be 1/2 or 1/4 the window size\n",
    "- hop_length\n",
    "- m_chroma=12\n",
    "- center=T/F\n",
    "\n",
    "melspectrogram \n",
    "- n_fft=220 for .01 s and 2205 for .1 s, hop length can be 1/2 or 1/4 the window size\n",
    "- hop_length\n"
   ]
  },
  {
   "cell_type": "code",
   "execution_count": 4,
   "id": "1008d451-7178-4d4b-bb30-b9d4e826a8b6",
   "metadata": {},
   "outputs": [],
   "source": [
    "def extract_mfcc_mean(audio, sr, **kwargs):\n",
    "    return np.mean(librosa.feature.mfcc(y=audio, sr=sr, **kwargs).T, axis=0)\n",
    "\n",
    "\n",
    "def extract_chroma_mean(audio, sr, **kwargs):\n",
    "    stft = np.abs(librosa.stft(audio))\n",
    "    return np.mean(librosa.feature.chroma_stft(S=stft, sr=sr, **kwargs).T, axis=0)\n",
    "\n",
    "\n",
    "def extract_mel_mean(audio, sr, **kwargs):\n",
    "    return np.mean(librosa.feature.melspectrogram(y=audio, sr=sr, **kwargs).T, axis=0)\n",
    "     "
   ]
  },
  {
   "cell_type": "code",
   "execution_count": 17,
   "id": "cc6e5eee-5ef9-4b51-89be-092811300dd7",
   "metadata": {},
   "outputs": [],
   "source": [
    "def run_extract(df, lim, func, **kwargs):\n",
    "    X = []\n",
    "    for i, r in df.iterrows():\n",
    "        audio = r.audio if lim is None else r.audio[:lim]\n",
    "        X.append(func(audio, r.sr, **kwargs))\n",
    "    \n",
    "    return np.array(X)"
   ]
  },
  {
   "cell_type": "code",
   "execution_count": 18,
   "id": "a3f63104-5ba4-4b7c-85a5-e57289d4bce8",
   "metadata": {},
   "outputs": [],
   "source": [
    "# test MFCC hyperparams\n",
    "xs = list(range(10, 30, 2))\n",
    "scores = list()\n",
    "for n_mfcc in xs:   \n",
    "    feats = run_extract(X_train, extract_limit, extract_mfcc, n_mfcc=n_mfcc)\n",
    "    scores.append(silhouette_score(feats, y_train))"
   ]
  },
  {
   "cell_type": "code",
   "execution_count": 10,
   "id": "dfd22816-164b-407a-98e6-de074a386c0c",
   "metadata": {},
   "outputs": [
    {
     "data": {
      "image/png": "[encoded data removed]",
      "text/plain": [
       "<Figure size 432x288 with 1 Axes>"
      ]
     },
     "metadata": {
      "needs_background": "light"
     },
     "output_type": "display_data"
    }
   ],
   "source": [
    "plt.plot(xs, scores);"
   ]
  },
  {
   "cell_type": "markdown",
   "id": "6e189c5f-053f-4dcf-9958-2eb9e3cbf2a4",
   "metadata": {},
   "source": [
    "Disregarding some weird transients, I do not see a strong reason to change the number of MFCC coeffincients from the typical default. "
   ]
  },
  {
   "cell_type": "code",
   "execution_count": 28,
   "id": "e15e6ca6-d669-494f-9b30-57d0312d1d4a",
   "metadata": {},
   "outputs": [],
   "source": [
    "# test chroma hyperparams\n",
    "xs = list(range(2, 14))\n",
    "scores = list()\n",
    "for n_chroma in xs:  \n",
    "    feats = run_extract(X_train, extract_limit, extract_chroma, n_chroma=n_chroma)\n",
    "    scores.append(silhouette_score(feats, y_train))"
   ]
  },
  {
   "cell_type": "code",
   "execution_count": 29,
   "id": "71a981dd-1015-4f39-ba50-1203f701ec57",
   "metadata": {},
   "outputs": [
    {
     "data": {
      "image/png": "[encoded data removed]",
      "text/plain": [
       "<Figure size 432x288 with 1 Axes>"
      ]
     },
     "metadata": {
      "needs_background": "light"
     },
     "output_type": "display_data"
    }
   ],
   "source": [
    "plt.plot(xs, scores);"
   ]
  },
  {
   "cell_type": "markdown",
   "id": "420dd351-06ff-458d-acdb-b0f78e9fee19",
   "metadata": {},
   "source": [
    "Interestingly, decreasing the number of chroma appears to improve the class separation a small amount."
   ]
  },
  {
   "cell_type": "markdown",
   "id": "4ad9bfce-296e-4f63-aca5-a65f239ca949",
   "metadata": {},
   "source": [
    "## ML Prototype"
   ]
  },
  {
   "cell_type": "markdown",
   "id": "640e20ca-39a1-4b80-ae61-1ed93475e5b2",
   "metadata": {},
   "source": [
    "Pipeline\n",
    "- oversampling using ADASYN\n",
    "- feature standardization using Quantile Transformer\n",
    "- PCA (search components)\n",
    "- LGBM\n",
    "    - thorough hyperparameter search with skoptimize\n",
    "\n"
   ]
  },
  {
   "cell_type": "code",
   "execution_count": 28,
   "id": "63eddc45-2811-4112-8359-c1f5c804696b",
   "metadata": {},
   "outputs": [],
   "source": [
    "y = df.negativity"
   ]
  },
  {
   "cell_type": "markdown",
   "id": "348d45f2-be27-4c9e-bc26-31538fffd0c0",
   "metadata": {},
   "source": [
    "Since I changed several things since I last ran PCA, here I will run a simple search again on the number of components."
   ]
  },
  {
   "cell_type": "code",
   "execution_count": 29,
   "id": "72c72331-f66e-4728-8c3a-dcc871cf2d66",
   "metadata": {},
   "outputs": [
    {
     "data": {
      "text/plain": [
       "{'decomposition__n_components': 51}"
      ]
     },
     "execution_count": 29,
     "metadata": {},
     "output_type": "execute_result"
    }
   ],
   "source": [
    "pipe = Pipeline([\n",
    "    ('oversample', ADASYN(random_state=0, n_jobs=-1)), \n",
    "    ('standardize', QuantileTransformer(output_distribution='normal', random_state=0)),\n",
    "    ('decomposition', PCA(random_state=0)),\n",
    "    ('estimator', lgb.LGBMClassifier(objective='binary', class_weight='balanced', random_state=0, n_jobs=-1)),\n",
    "])\n",
    "params = {\n",
    "    'decomposition__n_components': list(range(10, 60)) \n",
    "}\n",
    "search = GridSearchCV(pipe, params, scoring='f1_weighted', cv=5, n_jobs=-1) \n",
    "\n",
    "search.fit(X, y)\n",
    "\n",
    "search.best_params_"
   ]
  },
  {
   "cell_type": "code",
   "execution_count": 40,
   "id": "7fc64891-fda5-43c8-b5e1-770e6cb9dd15",
   "metadata": {},
   "outputs": [],
   "source": [
    "def grid_search_plot(search, x, hue=None, col=None):\n",
    "    result_df = pd.DataFrame.from_dict(search.cv_results_, orient='columns')\n",
    "    grid = sns.relplot(data=result_df,\n",
    "                kind='line',\n",
    "                x='param_' + x,\n",
    "                y='mean_test_score',\n",
    "                hue='param_' + hue if hue else None, \n",
    "                col='param_' + col if col else None)\n",
    "    grid.fig.set_size_inches(15, 10)\n"
   ]
  },
  {
   "cell_type": "code",
   "execution_count": 41,
   "id": "83250278-8597-4f1b-8bab-f71bafa2ad32",
   "metadata": {},
   "outputs": [
    {
     "data": {
      "image/png": "[encoded data removed]",
      "text/plain": [
       "<Figure size 1080x720 with 1 Axes>"
      ]
     },
     "metadata": {
      "needs_background": "light"
     },
     "output_type": "display_data"
    }
   ],
   "source": [
    "grid_search_plot(search, 'decomposition__n_components');"
   ]
  },
  {
   "cell_type": "markdown",
   "id": "a66d6236-1b7e-4ccb-9f00-71138584f1d9",
   "metadata": {},
   "source": [
    "Looks like 50 components is a good tradeoff between components and score. "
   ]
  },
  {
   "cell_type": "markdown",
   "id": "e6ca3999-2ecf-4a5f-a080-ee687740c31a",
   "metadata": {},
   "source": [
    "Next I will tune the LGBMClassifier using Bayesian Optimization. Now, since this isn't a simple grid search, I will reduce the training data to a smaller amount as suggested by the earlier experiments."
   ]
  },
  {
   "cell_type": "code",
   "execution_count": 10,
   "id": "eb3e0e00-c996-43dc-a6be-f289c81e4037",
   "metadata": {},
   "outputs": [],
   "source": [
    "X_train, X_test, y_train, y_test = train_test_split(X, y, train_size=0.2, stratify=y, random_state=0)"
   ]
  },
  {
   "cell_type": "code",
   "execution_count": 11,
   "id": "404de0bb-25f7-4dac-9818-0cc0c44aa581",
   "metadata": {},
   "outputs": [],
   "source": [
    "n_components = 50\n",
    "pipe = Pipeline([\n",
    "    ('oversample', ADASYN(random_state=0, n_jobs=-1)), \n",
    "    ('standardize', QuantileTransformer(output_distribution='normal', random_state=0)),\n",
    "    ('decomposition', PCA(random_state=0, n_components=n_components)),\n",
    "    ('model', lgb.LGBMClassifier(objective='binary', class_weight='balanced', random_state=0, n_jobs=-1)),\n",
    "])\n",
    "\n",
    "# https://lightgbm.readthedocs.io/en/v3.2.1/pythonapi/lightgbm.LGBMClassifier.html\n",
    "search_spaces = {\n",
    "        'model__boosting_type': Categorical(['gbdt', 'dart', 'goss']),               # def=gbdt\n",
    "        'model__num_leaves': Integer(10, 100),                                       # def=31\n",
    "        'model__max_depth': Integer(1, 20),                                          # def=-1 no limit\n",
    "        'model__learning_rate': Real(low=0.001, high=0.5, prior='log-uniform'),      # def=0.1\n",
    "        'model__n_estimators': Integer(low=50, high=500),                            # def=100    \n",
    "        'model__min_split_gain': Real(0.0, 1.0),                                     # def=0\n",
    "        'model__min_child_weight': Real(low=0.00001, high=0.1, prior='log-uniform'), # def=1e-3\n",
    "        'model__min_child_samples': Integer(10, 30),                                 # def=20\n",
    "        'model__reg_alpha': Integer(0, 100),                                         # def=0\n",
    "        'model__reg_lambda': Integer(0, 100),                                        # def=0\n",
    "        \n",
    "#         'model__subsample': [1.0],\n",
    "#         'model__subsample_freq': [0],\n",
    "#         'model__colsample_bytree': [1],\n",
    "    }"
   ]
  },
  {
   "cell_type": "code",
   "execution_count": 13,
   "id": "4730a6e8-99bf-47b8-a2ff-dbf9b279cdd7",
   "metadata": {},
   "outputs": [
    {
     "name": "stdout",
     "output_type": "stream",
     "text": [
      "CPU times: user 14 s, sys: 203 ms, total: 14.2 s\n",
      "Wall time: 21.5 s\n"
     ]
    }
   ],
   "source": [
    "%%time\n",
    "\n",
    "# number of parameter settings that are sampled, trades off runtime vs solution quality\n",
    "n_iter = 10\n",
    "\n",
    "# time-based stopping criterion\n",
    "budget_minutes = 120\n",
    "\n",
    "cbs = [TimerCallback(), DeadlineStopper(60 * budget_minutes)]\n",
    "opt = BayesSearchCV(\n",
    "    estimator=pipe,\n",
    "    search_spaces=search_spaces,\n",
    "    n_iter=n_iter,\n",
    "    scoring='f1_weighted',\n",
    "    n_jobs=-1,\n",
    "    n_points=1,  # number of parameter settings to sample in parallel\n",
    "    refit=True,  # after opt, refits on entire dataset, so predictions can be made\n",
    "    verbose=0,\n",
    "    cv=3\n",
    ")\n",
    "\n",
    "opt = opt.fit(X_train, y_train, callback=cbs)"
   ]
  },
  {
   "cell_type": "markdown",
   "id": "58ed6ee1-f8a7-4973-a6ba-bb9a3d475de4",
   "metadata": {},
   "source": [
    "Looks like it takes about 2.15s per iteration"
   ]
  },
  {
   "cell_type": "code",
   "execution_count": null,
   "id": "b21468e5-d9d9-4a42-bcf9-0957e10e5aba",
   "metadata": {},
   "outputs": [],
   "source": []
  },
  {
   "cell_type": "code",
   "execution_count": 43,
   "id": "35333b8b-19fa-45ce-8d01-77012ae7e2a7",
   "metadata": {},
   "outputs": [
    {
     "data": {
      "text/plain": [
       "'cv=0.3115'"
      ]
     },
     "execution_count": 43,
     "metadata": {},
     "output_type": "execute_result"
    }
   ],
   "source": [
    "f'cv={opt.best_score_:.4f}'"
   ]
  },
  {
   "cell_type": "code",
   "execution_count": 44,
   "id": "5fe82953-3c49-46d8-84c7-39e43697f962",
   "metadata": {},
   "outputs": [
    {
     "data": {
      "text/plain": [
       "OrderedDict([('model__boosting_type', 'dart'),\n",
       "             ('model__learning_rate', 0.04020229609548579),\n",
       "             ('model__max_depth', 13),\n",
       "             ('model__min_child_samples', 29),\n",
       "             ('model__min_child_weight', 0.00010600217702290037),\n",
       "             ('model__min_split_gain', 0.14370387930901055),\n",
       "             ('model__n_estimators', 369),\n",
       "             ('model__num_leaves', 51)])"
      ]
     },
     "execution_count": 44,
     "metadata": {},
     "output_type": "execute_result"
    }
   ],
   "source": [
    "opt.best_params_"
   ]
  },
  {
   "cell_type": "code",
   "execution_count": 95,
   "id": "6522bbff-5eef-4cee-9d89-ac82584a9815",
   "metadata": {},
   "outputs": [],
   "source": [
    "# TODO plot the various search spaces to get a sense of the better parameters"
   ]
  },
  {
   "cell_type": "code",
   "execution_count": null,
   "id": "1220bc65-5a0e-418a-9b2c-a3a20d5f8ebc",
   "metadata": {},
   "outputs": [],
   "source": []
  },
  {
   "cell_type": "code",
   "execution_count": null,
   "id": "80bae1b1-257d-4b9a-93db-d22f4d3f2e71",
   "metadata": {},
   "outputs": [],
   "source": []
  },
  {
   "cell_type": "markdown",
   "id": "d0d3bf5a",
   "metadata": {},
   "source": [
    "## DL Prototype\n",
    "\n",
    "Summary: \n",
    "1. CNN on melspectrogram followed by Linear Classifier\n",
    "- following ideas from: https://towardsdatascience.com/audio-deep-learning-made-simple-part-1-state-of-the-art-techniques-da1d3dff2504\n",
    "2. Create sequence of features and use LSTM"
   ]
  },
  {
   "cell_type": "markdown",
   "id": "f2b2b4d9-b46f-4a93-b201-992819130b26",
   "metadata": {},
   "source": [
    "Mel Spectrograms\n",
    "- regular spectrogram: frequency vs. time\n",
    "- mel spectrogram: mel scale vs time, colors/intensity of values on decibel scale not amplitude"
   ]
  },
  {
   "cell_type": "code",
   "execution_count": 6,
   "id": "126f8b92-3efb-4ed0-9d3e-d8ae94d96363",
   "metadata": {},
   "outputs": [
    {
     "data": {
      "text/plain": [
       "216"
      ]
     },
     "execution_count": 6,
     "metadata": {},
     "output_type": "execute_result"
    }
   ],
   "source": [
    "windows = ceil(extract_limit / 512)\n",
    "windows"
   ]
  },
  {
   "cell_type": "code",
   "execution_count": 8,
   "id": "d84a6e91-ade1-4e35-ac57-cd85cc6699f5",
   "metadata": {},
   "outputs": [
    {
     "data": {
      "application/vnd.jupyter.widget-view+json": {
       "model_id": "b56966f6658e480b96f8fb3efa26091b",
       "version_major": 2,
       "version_minor": 0
      },
      "text/plain": [
       "  0%|          | 0/13700 [00:00<?, ?it/s]"
      ]
     },
     "metadata": {},
     "output_type": "display_data"
    },
    {
     "data": {
      "text/plain": [
       "(13700, 20, 216)"
      ]
     },
     "execution_count": 8,
     "metadata": {},
     "output_type": "execute_result"
    }
   ],
   "source": [
    "X_mfcc = []\n",
    "for i, r in tqdm_notebook(X.iterrows(), total=X.shape[0]):\n",
    "    mfcc = librosa.feature.mfcc(y=r.audio[:extract_limit], sr=r.sr)\n",
    "    # pad the tail of shorter samples with 0s\n",
    "    mfcc_pad = librosa.util.fix_length(mfcc, size=windows)\n",
    "    X_mfcc.append(mfcc_pad)\n",
    "\n",
    "X_mfcc = np.array(X_mfcc)\n",
    "X_mfcc.shape"
   ]
  },
  {
   "cell_type": "code",
   "execution_count": 106,
   "id": "a086fa49-bb6d-4a97-b72b-470b92555c33",
   "metadata": {},
   "outputs": [],
   "source": [
    "# TODO: \n",
    "# - randomly time shift signal\n",
    "\n",
    "# n_mels=64, n_fft=1024, hop_length\n",
    "\n",
    "# ----------------------------\n",
    "# Shifts the signal to the left or right by some percent. Values at the end\n",
    "# are 'wrapped around' to the start of the transformed signal.\n",
    "# ----------------------------\n",
    "def time_shift(aud, shift_limit):\n",
    "    sig, sr = aud\n",
    "    _, sig_len = sig.shape\n",
    "    shift_amt = int(random.random() * shift_limit * sig_len)\n",
    "    return (sig.roll(shift_amt), sr)\n",
    "\n",
    "\n",
    "# Frequency mask — randomly mask out a range of consecutive frequencies by adding horizontal bars on the spectrogram.\n",
    "# Time mask — similar to frequency masks, except that we randomly block out ranges of time from the spectrogram by using vertical bars.\n",
    "    \n",
    "\n",
    "    \n",
    "# ----------------------------\n",
    "# Augment the Spectrogram by masking out some sections of it in both the frequency\n",
    "# dimension (ie. horizontal bars) and the time dimension (vertical bars) to prevent\n",
    "# overfitting and to help the model generalise better. The masked sections are\n",
    "# replaced with the mean value.\n",
    "# ----------------------------\n",
    "def spectro_augment(spec, max_mask_pct=0.1, n_freq_masks=1, n_time_masks=1):\n",
    "    _, n_mels, n_steps = spec.shape\n",
    "    mask_value = spec.mean()\n",
    "    aug_spec = spec\n",
    "\n",
    "    freq_mask_param = max_mask_pct * n_mels\n",
    "    for _ in range(n_freq_masks):\n",
    "        aug_spec = transforms.FrequencyMasking(freq_mask_param)(aug_spec, mask_value)\n",
    "\n",
    "    time_mask_param = max_mask_pct * n_steps\n",
    "    for _ in range(n_time_masks):\n",
    "        aug_spec = transforms.TimeMasking(time_mask_param)(aug_spec, mask_value)\n",
    "\n",
    "    return aug_spec"
   ]
  },
  {
   "cell_type": "code",
   "execution_count": 10,
   "id": "93840fdc-fb90-480d-b40b-a2484e67b7e2",
   "metadata": {},
   "outputs": [],
   "source": [
    "\n",
    "class MeldDS(Dataset):\n",
    "    def __init__(self, X):\n",
    "        self.X = X\n",
    "        \n",
    "    def __len__(self):\n",
    "        return len(self.X)\n",
    "    \n",
    "    def __getitem__(self, i):\n",
    "        return self.X[i]\n",
    "    \n",
    "ds = MeldDS(X_mfcc)"
   ]
  },
  {
   "cell_type": "code",
   "execution_count": 11,
   "id": "c3d5e97f-b2f2-4108-b633-ebf98c0f900d",
   "metadata": {},
   "outputs": [],
   "source": [
    "lengths = [floor(len(ds) * 0.9), ceil(len(ds) * 0.1)]\n",
    "train_ds, test_ds = random_split(ds, lengths)\n",
    "\n",
    "batch_size = 32  # 64, 128\n",
    "train_dl = DataLoader(train_ds, batch_size=batch_size, shuffle=True)\n",
    "test_dl = DataLoader(test_ds, batch_size=batch_size, shuffle=False)"
   ]
  },
  {
   "cell_type": "code",
   "execution_count": 125,
   "id": "f70ce19b-d69e-4a93-9556-62019b1803ba",
   "metadata": {},
   "outputs": [],
   "source": [
    "# input: (batch_size, num_channels, mfcc bands, timesteps)\n",
    "class AudioClassifier (nn.Module):\n",
    "    def __init__(self):\n",
    "        super().__init__()\n",
    "        conv_layers = []\n",
    "\n",
    "        # First Convolution Block with Relu and Batch Norm and using Kaiming init\n",
    "        \n",
    "        kaiming_a = 0.1\n",
    "        \n",
    "        self.conv1 = nn.Conv2d(2, 8, kernel_size=(5, 5), stride=(2, 2), padding=(2, 2))\n",
    "        self.relu1 = nn.ReLU()\n",
    "        self.bn1 = nn.BatchNorm2d(8)\n",
    "        init.kaiming_normal_(self.conv1.weight, a=kaiming_a)\n",
    "        self.conv1.bias.data.zero_()\n",
    "        conv_layers += [self.conv1, self.relu1, self.bn1]\n",
    "\n",
    "        # Second Convolution Block\n",
    "        self.conv2 = nn.Conv2d(8, 16, kernel_size=(3, 3), stride=(2, 2), padding=(1, 1))\n",
    "        self.relu2 = nn.ReLU()\n",
    "        self.bn2 = nn.BatchNorm2d(16)\n",
    "        init.kaiming_normal_(self.conv2.weight, a=kaiming_a)\n",
    "        self.conv2.bias.data.zero_()\n",
    "        conv_layers += [self.conv2, self.relu2, self.bn2]\n",
    "\n",
    "        # Second Convolution Block\n",
    "        self.conv3 = nn.Conv2d(16, 32, kernel_size=(3, 3), stride=(2, 2), padding=(1, 1))\n",
    "        self.relu3 = nn.ReLU()\n",
    "        self.bn3 = nn.BatchNorm2d(32)\n",
    "        init.kaiming_normal_(self.conv3.weight, a=kaiming_a)\n",
    "        self.conv3.bias.data.zero_()\n",
    "        conv_layers += [self.conv3, self.relu3, self.bn3]\n",
    "\n",
    "        # Second Convolution Block\n",
    "        self.conv4 = nn.Conv2d(32, 64, kernel_size=(3, 3), stride=(2, 2), padding=(1, 1))\n",
    "        self.relu4 = nn.ReLU()\n",
    "        self.bn4 = nn.BatchNorm2d(64)\n",
    "        init.kaiming_normal_(self.conv4.weight, a=kaiming_a)\n",
    "        self.conv4.bias.data.zero_()\n",
    "        conv_layers += [self.conv4, self.relu4, self.bn4]\n",
    "\n",
    "        # Linear Classifier\n",
    "        self.ap = nn.AdaptiveAvgPool2d(output_size=1)\n",
    "        self.lin = nn.Linear(in_features=64, out_features=10)\n",
    "\n",
    "        # Wrap the Convolutional Blocks\n",
    "        self.conv = nn.Sequential(*conv_layers)\n",
    "        \n",
    "    def _get_conv_block(fan_in: int, fan_out: int, kernel_size, stride, padding, kaiming_a=0.1) -> list:\n",
    "        conv2d = nn.Conv2d(fan_in, fan_out, kernel_size=kernel_size, stride=stride, padding=padding)\n",
    "        relu = nn.ReLU()\n",
    "        self.bn1 = nn.BatchNorm2d(fan_out)\n",
    "        init.kaiming_normal_(conv2d.weight, a=kaiming_a)\n",
    "        self.conv1.bias.data.zero_()\n",
    "        conv_layers += [self.conv1, self.relu1, self.bn1]\n",
    "        \n",
    " \n",
    "    # ----------------------------\n",
    "    # Forward pass computations\n",
    "    # ----------------------------\n",
    "    def forward(self, x):\n",
    "        # Run the convolutional blocks\n",
    "        x = self.conv(x)\n",
    "\n",
    "        # Adaptive pool and flatten for input to linear layer\n",
    "        x = self.ap(x)\n",
    "        x = x.view(x.shape[0], -1)\n",
    "\n",
    "        # Linear layer\n",
    "        return self.lin(x)\n"
   ]
  },
  {
   "cell_type": "code",
   "execution_count": 127,
   "id": "724763c8-c377-4a41-9481-2e45fc333fae",
   "metadata": {},
   "outputs": [
    {
     "data": {
      "text/plain": [
       "device(type='cpu')"
      ]
     },
     "execution_count": 127,
     "metadata": {},
     "output_type": "execute_result"
    }
   ],
   "source": [
    "model = AudioClassifier()\n",
    "device = torch.device(\"cuda:0\" if torch.cuda.is_available() else \"cpu\")\n",
    "myModel = model.to(device)\n",
    "next(model.parameters()).device"
   ]
  },
  {
   "cell_type": "code",
   "execution_count": null,
   "id": "dd8b8016-ee21-424b-9740-23be0e6579df",
   "metadata": {},
   "outputs": [],
   "source": []
  }
 ],
 "metadata": {
  "kernelspec": {
   "display_name": "py38",
   "language": "python",
   "name": "py38"
  },
  "language_info": {
   "codemirror_mode": {
    "name": "ipython",
    "version": 3
   },
   "file_extension": ".py",
   "mimetype": "text/x-python",
   "name": "python",
   "nbconvert_exporter": "python",
   "pygments_lexer": "ipython3",
   "version": "3.8.12"
  }
 },
 "nbformat": 4,
 "nbformat_minor": 5
}
