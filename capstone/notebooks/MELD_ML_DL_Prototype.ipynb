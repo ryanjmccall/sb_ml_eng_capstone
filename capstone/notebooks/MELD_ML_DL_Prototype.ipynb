{
 "cells": [
  {
   "cell_type": "markdown",
   "id": "9befb218",
   "metadata": {},
   "source": [
    "# ML / DL Prototype \n",
    "\n",
    "Time Estimate: 25 - 30 Hours / 50 - 60 Hours (depending on if you decide to build both prototypes)\n",
    "The goal of this step is to find a machine learning or deep learning approach that works for your problem, and then show that the approach you choose is a viable one. Since the application has not been deployed to production yet, we’ll call it a prototype.\n",
    "\n",
    "For this step, you’ll build your prototype in a Jupyter notebook. Depending on your problem, you’ll be using a more ‘traditional’ machine learning (ML) technique or a deep learning (DL) technique. Your goal is to come up with a working implementation of your prototype in a Jupyter notebook. This prototype could work on a subset of the data but demonstrates that your approach to solving the problem is a viable one based on the following criteria:\n",
    "- The data has been reasonably split into training, validation, and test sets.\n",
    "- You have used the correct metric(s) to evaluate the performance of your\n",
    "algorithm.\n",
    "- The performance of your algorithm is ‘good enough’ as determined by your mentor.\n",
    "\n",
    "### Rubric\n",
    "\n",
    "- The submission shows that the student understands how to design, implement, and justify a suitable machine learning and/or deep learning approach to a problem.\n",
    "- The submission demonstrates that the student made thoughtful decisions about validating and testing the approach:\n",
    "    - The data has been reasonably split into training, validation, and test sets\n",
    "    - The ML/DL algorithm chosen for the approach makes sense in the context of the problem\n",
    "    - The student has used the correct metric(s) to evaluate the performance of their algorithm\n",
    "    - The performance of their algorithm is ‘good enough’ to meet the requirements of the business problem\n",
    "\n",
    "- Well-documented GitHub repository and code. The Jupyter notebooks for the code provide step-by-step documentation that’s easy to follow. "
   ]
  },
  {
   "cell_type": "markdown",
   "id": "5be6f0d9",
   "metadata": {},
   "source": [
    "## ML Prototype\n",
    "\n",
    "Summary: Light Gradient boosting optimized with SK Optimize\n",
    "\n",
    "Pipeline\n",
    "- feature extraction \n",
    "    - audio limit\n",
    "    - melspectrogram (choose hyperparams)\n",
    "        - fmin\n",
    "        - fmax\n",
    "        - n_mels (spectrogram height)\n",
    "        - n_fft (window length in time)\n",
    "        - hop_length\n",
    "    - mfcc\n",
    "        - hyperparams\n",
    "    - chroma\n",
    "    \n",
    "- oversampling using ADASYN\n",
    "- feature standardization using Quantile Transformer\n",
    "- PCA (search components)\n",
    "- LGBM\n",
    "    - thorough hyperparameter search with skoptimize"
   ]
  },
  {
   "cell_type": "markdown",
   "id": "d0d3bf5a",
   "metadata": {},
   "source": [
    "## DL Prototype\n",
    "\n",
    "Summary: \n",
    "1. CNN on melspectrogram followed by Linear Classifier\n",
    "2. Create sequence of features and use LSTM"
   ]
  },
  {
   "cell_type": "code",
   "execution_count": null,
   "id": "ddebcd06",
   "metadata": {},
   "outputs": [],
   "source": []
  }
 ],
 "metadata": {
  "kernelspec": {
   "display_name": "py38",
   "language": "python",
   "name": "py38"
  },
  "language_info": {
   "codemirror_mode": {
    "name": "ipython",
    "version": 3
   },
   "file_extension": ".py",
   "mimetype": "text/x-python",
   "name": "python",
   "nbconvert_exporter": "python",
   "pygments_lexer": "ipython3",
   "version": "3.8.12"
  }
 },
 "nbformat": 4,
 "nbformat_minor": 5
}
