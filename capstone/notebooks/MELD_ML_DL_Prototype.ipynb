{
 "cells": [
  {
   "cell_type": "markdown",
   "id": "9befb218",
   "metadata": {},
   "source": [
    "# ML / DL Prototype \n",
    "\n",
    "Time Estimate: 25 - 30 Hours / 50 - 60 Hours (depending on if you decide to build both prototypes)\n",
    "The goal of this step is to find a machine learning or deep learning approach that works for your problem, and then show that the approach you choose is a viable one. Since the application has not been deployed to production yet, we’ll call it a prototype.\n",
    "\n",
    "For this step, you’ll build your prototype in a Jupyter notebook. Depending on your problem, you’ll be using a more ‘traditional’ machine learning (ML) technique or a deep learning (DL) technique. Your goal is to come up with a working implementation of your prototype in a Jupyter notebook. This prototype could work on a subset of the data but demonstrates that your approach to solving the problem is a viable one based on the following criteria:\n",
    "- The data has been reasonably split into training, validation, and test sets.\n",
    "- You have used the correct metric(s) to evaluate the performance of your\n",
    "algorithm.\n",
    "- The performance of your algorithm is ‘good enough’ as determined by your mentor.\n",
    "\n",
    "### Rubric\n",
    "\n",
    "- The submission shows that the student understands how to design, implement, and justify a suitable machine learning and/or deep learning approach to a problem.\n",
    "- The submission demonstrates that the student made thoughtful decisions about validating and testing the approach:\n",
    "    - The data has been reasonably split into training, validation, and test sets\n",
    "    - The ML/DL algorithm chosen for the approach makes sense in the context of the problem\n",
    "    - The student has used the correct metric(s) to evaluate the performance of their algorithm\n",
    "    - The performance of their algorithm is ‘good enough’ to meet the requirements of the business problem\n",
    "\n",
    "- Well-documented GitHub repository and code. The Jupyter notebooks for the code provide step-by-step documentation that’s easy to follow. "
   ]
  },
  {
   "cell_type": "markdown",
   "id": "5be6f0d9",
   "metadata": {},
   "source": [
    "## ML Prototype\n",
    "\n",
    "Summary: Light Gradient boosting optimized with SK Optimize\n",
    "\n",
    "Pipeline\n",
    "- feature extraction \n",
    "    - audio limit    \n",
    "- oversampling using ADASYN\n",
    "- feature standardization using Quantile Transformer\n",
    "- PCA (search components)\n",
    "- LGBM\n",
    "    - thorough hyperparameter search with skoptimize"
   ]
  },
  {
   "cell_type": "code",
   "execution_count": 23,
   "id": "8d924afc-5072-48e9-93de-d60813ba19c6",
   "metadata": {},
   "outputs": [],
   "source": [
    "import pandas as pd\n",
    "import numpy as np\n",
    "import matplotlib.pyplot as plt\n",
    "\n",
    "from sklearn.model_selection import train_test_split, cross_val_score\n",
    "from sklearn.metrics import silhouette_score\n",
    "import warnings\n",
    "warnings.filterwarnings('ignore')"
   ]
  },
  {
   "cell_type": "markdown",
   "id": "ca909db7-8cca-44b6-a2e9-04e865f201a9",
   "metadata": {},
   "source": [
    "Load dataset including raw audio and previously computed features."
   ]
  },
  {
   "cell_type": "code",
   "execution_count": 24,
   "id": "e08f71ef-af68-4d26-a635-f0ad8be835ba",
   "metadata": {},
   "outputs": [],
   "source": [
    "df = pd.read_pickle('data/features/df.pkl')"
   ]
  },
  {
   "cell_type": "code",
   "execution_count": 38,
   "id": "00c1d282-f1a7-42bd-874a-00acf6e79dcc",
   "metadata": {},
   "outputs": [
    {
     "name": "stdout",
     "output_type": "stream",
     "text": [
      "limit  110250\n",
      "sr  22050.0\n",
      "X  (13700, 162)\n",
      "y (13700,)\n",
      "X train  (10960, 162)\n",
      "y train  (10960,)\n",
      "X test (2740, 162)\n",
      "y train (2740,)\n"
     ]
    }
   ],
   "source": [
    "extract_limit = df.extract_limit.values[0]  # previously found good audio limit\n",
    "sr = df.sr.values[0] # sample rate\n",
    "\n",
    "# cannot use select_dtypes since features stored under *int* index *names*\n",
    "X = df[[c for c in df.columns.values if isinstance(c, int)] + ['audio', 'sr']]\n",
    "y = df['emotion_class']\n",
    "\n",
    "test_size = 0.2\n",
    "X_train, X_test, y_train, y_test = train_test_split(X, y, test_size=test_size, stratify=y, random_state=0)\n",
    "\n",
    "print('limit ', extract_limit)\n",
    "print('sr ', sr)\n",
    "print('X ', X.shape)\n",
    "print('y', y.shape)\n",
    "print('X train ', X_train.shape)\n",
    "print('y train ', y_train.shape)\n",
    "print('X test', X_test.shape)\n",
    "print('y train', y_test.shape)"
   ]
  },
  {
   "cell_type": "markdown",
   "id": "e573aedc-4221-4d50-bb7f-7f80e1c6dda0",
   "metadata": {},
   "source": [
    "## Experiment\n",
    "\n",
    "Cross validate extraction hyperparams using silhouette score.\n",
    "\n",
    "mfcc \n",
    "- n_mfcc in [13, 26] \n",
    "- dct_type in [1, 2, 3]\n",
    "\n",
    "chroma_stft\n",
    "- n_fft=220 for .01 s and 2205 for .1 s, hop length can be 1/2 or 1/4 the window size\n",
    "- hop_length\n",
    "- m_chroma=12\n",
    "- center=T/F\n",
    "\n",
    "melspectrogram \n",
    "- n_fft=220 for .01 s and 2205 for .1 s, hop length can be 1/2 or 1/4 the window size\n",
    "- hop_length"
   ]
  },
  {
   "cell_type": "code",
   "execution_count": 16,
   "id": "1008d451-7178-4d4b-bb30-b9d4e826a8b6",
   "metadata": {},
   "outputs": [],
   "source": [
    "import librosa\n",
    "\n",
    "def extract_mfcc_mean(audio, sr, **kwargs):\n",
    "    return np.mean(librosa.feature.mfcc(y=audio, sr=sr, **kwargs).T, axis=0)\n",
    "\n",
    "\n",
    "def extract_chroma_mean(audio, sr, **kwargs):\n",
    "    stft = np.abs(librosa.stft(audio))\n",
    "    return np.mean(librosa.feature.chroma_stft(S=stft, sr=sr, **kwargs).T, axis=0)\n",
    "\n",
    "\n",
    "def extract_mel_mean(audio, sr, **kwargs):\n",
    "    return np.mean(librosa.feature.melspectrogram(y=audio, sr=sr, **kwargs).T, axis=0)\n",
    "     "
   ]
  },
  {
   "cell_type": "code",
   "execution_count": 17,
   "id": "cc6e5eee-5ef9-4b51-89be-092811300dd7",
   "metadata": {},
   "outputs": [],
   "source": [
    "def run_extract(df, lim, func, **kwargs):\n",
    "    X = []\n",
    "    for i, r in df.iterrows():\n",
    "        audio = r.audio if lim is None else r.audio[:lim]\n",
    "        X.append(func(audio, r.sr, **kwargs))\n",
    "    \n",
    "    return np.array(X)"
   ]
  },
  {
   "cell_type": "code",
   "execution_count": 18,
   "id": "a3f63104-5ba4-4b7c-85a5-e57289d4bce8",
   "metadata": {},
   "outputs": [],
   "source": [
    "# test MFCC hyperparams\n",
    "xs = list(range(10, 30, 2))\n",
    "scores = list()\n",
    "for n_mfcc in xs:   \n",
    "    feats = run_extract(X_train, extract_limit, extract_mfcc, n_mfcc=n_mfcc)\n",
    "    scores.append(silhouette_score(feats, y_train))"
   ]
  },
  {
   "cell_type": "code",
   "execution_count": 10,
   "id": "dfd22816-164b-407a-98e6-de074a386c0c",
   "metadata": {},
   "outputs": [
    {
     "data": {
      "image/png": "[encoded data removed]",
      "text/plain": [
       "<Figure size 432x288 with 1 Axes>"
      ]
     },
     "metadata": {
      "needs_background": "light"
     },
     "output_type": "display_data"
    }
   ],
   "source": [
    "plt.plot(xs, scores);"
   ]
  },
  {
   "cell_type": "code",
   "execution_count": 28,
   "id": "e15e6ca6-d669-494f-9b30-57d0312d1d4a",
   "metadata": {},
   "outputs": [],
   "source": [
    "# test chroma hyperparams\n",
    "xs = list(range(2, 14))\n",
    "scores = list()\n",
    "for n_chroma in xs:  \n",
    "    feats = run_extract(X_train, extract_limit, extract_chroma, n_chroma=n_chroma)\n",
    "    scores.append(silhouette_score(feats, y_train))"
   ]
  },
  {
   "cell_type": "code",
   "execution_count": 29,
   "id": "71a981dd-1015-4f39-ba50-1203f701ec57",
   "metadata": {},
   "outputs": [
    {
     "data": {
      "image/png": "[encoded data removed]",
      "text/plain": [
       "<Figure size 432x288 with 1 Axes>"
      ]
     },
     "metadata": {
      "needs_background": "light"
     },
     "output_type": "display_data"
    }
   ],
   "source": [
    "plt.plot(xs, scores);"
   ]
  },
  {
   "cell_type": "markdown",
   "id": "4ad9bfce-296e-4f63-aca5-a65f239ca949",
   "metadata": {},
   "source": [
    "## ML Prototype"
   ]
  },
  {
   "cell_type": "markdown",
   "id": "640e20ca-39a1-4b80-ae61-1ed93475e5b2",
   "metadata": {},
   "source": [
    "Pipeline\n",
    "- oversampling using ADASYN\n",
    "- feature standardization using Quantile Transformer\n",
    "- PCA (search components)\n",
    "- LGBM\n",
    "    - thorough hyperparameter search with skoptimize\n",
    "\n"
   ]
  },
  {
   "cell_type": "code",
   "execution_count": 21,
   "id": "72c72331-f66e-4728-8c3a-dcc871cf2d66",
   "metadata": {},
   "outputs": [
    {
     "data": {
      "text/plain": [
       "{'decomposition__n_components': 97}"
      ]
     },
     "execution_count": 21,
     "metadata": {},
     "output_type": "execute_result"
    }
   ],
   "source": [
    "from imblearn.pipeline import Pipeline \n",
    "from imblearn.over_sampling import ADASYN\n",
    "import lightgbm as lgb\n",
    "from sklearn.preprocessing import QuantileTransformer\n",
    "from sklearn.decomposition import PCA\n",
    "from sklearn.model_selection import GridSearchCV\n",
    "\n",
    "\n",
    "pipe = Pipeline([\n",
    "    ('oversample', ADASYN(random_state=0, n_jobs=-1)), \n",
    "    ('standardize', QuantileTransformer(output_distribution='normal', random_state=0)),\n",
    "    ('decomposition', PCA(random_state=0)),\n",
    "    ('estimator', lgb.LGBMClassifier(objective='multiclass', class_weight='balanced')),\n",
    "])\n",
    "params = {\n",
    "    'decomposition__n_components': list(range(10, 101)) \n",
    "}\n",
    "search = GridSearchCV(pipe, params, scoring='f1_weighted', cv=5, n_jobs=-1) \n",
    "\n",
    "search.fit(X_train, y_train)\n",
    "search.best_params_"
   ]
  },
  {
   "cell_type": "code",
   "execution_count": 35,
   "id": "7fc64891-fda5-43c8-b5e1-770e6cb9dd15",
   "metadata": {},
   "outputs": [],
   "source": [
    "import seaborn as sns\n",
    "\n",
    "def grid_search_plot(search, x, hue=None, col=None):\n",
    "    result_df = pd.DataFrame.from_dict(search.cv_results_, orient='columns')\n",
    "    grid = sns.relplot(data=result_df,\n",
    "                kind='line',\n",
    "                x='param_' + x,\n",
    "                y='mean_test_score',\n",
    "                hue='param_' + hue if hue else None, \n",
    "                col='param_' + col if col else None)\n",
    "    grid.fig.set_size_inches(15, 10)"
   ]
  },
  {
   "cell_type": "code",
   "execution_count": 36,
   "id": "83250278-8597-4f1b-8bab-f71bafa2ad32",
   "metadata": {},
   "outputs": [
    {
     "data": {
      "image/png": "[encoded data removed]",
      "text/plain": [
       "<Figure size 1080x720 with 1 Axes>"
      ]
     },
     "metadata": {
      "needs_background": "light"
     },
     "output_type": "display_data"
    }
   ],
   "source": [
    "grid_search_plot(search, 'decomposition__n_components');"
   ]
  },
  {
   "cell_type": "markdown",
   "id": "a66d6236-1b7e-4ccb-9f00-71138584f1d9",
   "metadata": {},
   "source": [
    "Looks like 50 is a good tradeoff between components and score. "
   ]
  },
  {
   "cell_type": "markdown",
   "id": "e6ca3999-2ecf-4a5f-a080-ee687740c31a",
   "metadata": {},
   "source": [
    "Next I will tune the LGBMClassifier using Bayesian Optimization..."
   ]
  },
  {
   "cell_type": "code",
   "execution_count": 41,
   "id": "404de0bb-25f7-4dac-9818-0cc0c44aa581",
   "metadata": {},
   "outputs": [],
   "source": [
    "from skopt import BayesSearchCV\n",
    "from skopt.space import Real, Categorical, Integer\n",
    "from skopt.callbacks import TimerCallback, DeadlineStopper\n",
    "\n",
    "\n",
    "pipe = Pipeline([\n",
    "    ('oversample', ADASYN(random_state=0, n_jobs=-1)), \n",
    "    ('standardize', QuantileTransformer(output_distribution='normal', random_state=0)),\n",
    "    ('decomposition', PCA(random_state=0, n_components=50)),\n",
    "    ('model', lgb.LGBMClassifier(objective='multiclass', class_weight='balanced')),\n",
    "])\n",
    "\n",
    "# https://lightgbm.readthedocs.io/en/v3.2.1/pythonapi/lightgbm.LGBMClassifier.html\n",
    "search_spaces = {\n",
    "        'model__boosting_type': Categorical(['gbdt', 'dart', 'goss']),               # def=gbdt\n",
    "        'model__num_leaves': Integer(10, 100),                                       # def=31\n",
    "        'model__max_depth': Integer(1, 20),                                          # def=-1 no limit\n",
    "        'model__learning_rate': Real(low=0.001, high=0.5, prior='log-uniform'),      # def=0.1\n",
    "        'model__n_estimators': Integer(low=50, high=500),                            # def=100    \n",
    "        'model__min_split_gain': Real(0.0, 1.0),                                     # def=0\n",
    "        'model__min_child_weight': Real(low=0.00001, high=0.1, prior='log-uniform'), # def=1e-3\n",
    "        'model__min_child_samples': Integer(10, 30),                                 # def=20\n",
    "#         'model__reg_alpha': Integer(0, 100),                                         # def=0\n",
    "#         'model__reg_lambda': Integer(0, 100),                                        # def=0\n",
    "        \n",
    "#         'model__subsample': [1.0],\n",
    "#         'model__subsample_freq': [0],\n",
    "#         'model__colsample_bytree': [1],\n",
    "    }"
   ]
  },
  {
   "cell_type": "code",
   "execution_count": 42,
   "id": "4730a6e8-99bf-47b8-a2ff-dbf9b279cdd7",
   "metadata": {},
   "outputs": [
    {
     "name": "stdout",
     "output_type": "stream",
     "text": [
      "Fitting 3 folds for each of 1 candidates, totalling 3 fits\n"
     ]
    },
    {
     "name": "stderr",
     "output_type": "stream",
     "text": [
      "[Parallel(n_jobs=-1)]: Using backend LokyBackend with 12 concurrent workers.\n",
      "[Parallel(n_jobs=-1)]: Done   3 out of   3 | elapsed:  2.2min finished\n",
      "[Parallel(n_jobs=-1)]: Using backend LokyBackend with 12 concurrent workers.\n"
     ]
    },
    {
     "name": "stdout",
     "output_type": "stream",
     "text": [
      "Fitting 3 folds for each of 1 candidates, totalling 3 fits\n"
     ]
    },
    {
     "name": "stderr",
     "output_type": "stream",
     "text": [
      "[Parallel(n_jobs=-1)]: Done   3 out of   3 | elapsed:   18.3s finished\n"
     ]
    },
    {
     "name": "stdout",
     "output_type": "stream",
     "text": [
      "CPU times: user 6min 37s, sys: 2.86 s, total: 6min 40s\n",
      "Wall time: 3min 4s\n"
     ]
    },
    {
     "data": {
      "text/plain": [
       "BayesSearchCV(cv=3,\n",
       "              estimator=Pipeline(steps=[('oversample',\n",
       "                                         ADASYN(n_jobs=-1, random_state=0)),\n",
       "                                        ('standardize',\n",
       "                                         QuantileTransformer(output_distribution='normal',\n",
       "                                                             random_state=0)),\n",
       "                                        ('decomposition',\n",
       "                                         PCA(n_components=50, random_state=0)),\n",
       "                                        ('model',\n",
       "                                         LGBMClassifier(class_weight='balanced',\n",
       "                                                        objective='multiclass'))]),\n",
       "              n_iter=2, n_jobs=-1, scoring='f1_weighted',\n",
       "              search...\n",
       "                             'model__min_child_weight': Real(low=1e-05, high=0.1, prior='log-uniform', transform='normalize'),\n",
       "                             'model__min_split_gain': Real(low=0.0, high=1.0, prior='uniform', transform='normalize'),\n",
       "                             'model__n_estimators': Integer(low=50, high=500, prior='uniform', transform='normalize'),\n",
       "                             'model__num_leaves': Integer(low=10, high=100, prior='uniform', transform='normalize')},\n",
       "              verbose=1)"
      ]
     },
     "execution_count": 42,
     "metadata": {},
     "output_type": "execute_result"
    }
   ],
   "source": [
    "%%time\n",
    "\n",
    "# number of parameter settings that are sampled, trades off runtime vs solution quality\n",
    "n_iter = 2\n",
    "\n",
    "# time-based stopping criterion\n",
    "budget_minutes = 120\n",
    "\n",
    "cbs = [TimerCallback(), DeadlineStopper(60 * budget_minutes)]\n",
    "opt = BayesSearchCV(\n",
    "    estimator=pipe,\n",
    "    search_spaces=search_spaces,\n",
    "    n_iter=n_iter,\n",
    "    scoring='f1_weighted',\n",
    "    n_jobs=-1,\n",
    "    n_points=1,  # number of parameter settings to sample in parallel\n",
    "    refit=True,  # after opt, refits on entire dataset, so predictions can be made\n",
    "    verbose=1,\n",
    "    cv=3\n",
    ")\n",
    "\n",
    "opt.fit(X_train, y_train, callback=cbs)"
   ]
  },
  {
   "cell_type": "code",
   "execution_count": 43,
   "id": "35333b8b-19fa-45ce-8d01-77012ae7e2a7",
   "metadata": {},
   "outputs": [
    {
     "data": {
      "text/plain": [
       "'cv=0.3115'"
      ]
     },
     "execution_count": 43,
     "metadata": {},
     "output_type": "execute_result"
    }
   ],
   "source": [
    "f'cv={opt.best_score_:.4f}'"
   ]
  },
  {
   "cell_type": "code",
   "execution_count": 44,
   "id": "5fe82953-3c49-46d8-84c7-39e43697f962",
   "metadata": {},
   "outputs": [
    {
     "data": {
      "text/plain": [
       "OrderedDict([('model__boosting_type', 'dart'),\n",
       "             ('model__learning_rate', 0.04020229609548579),\n",
       "             ('model__max_depth', 13),\n",
       "             ('model__min_child_samples', 29),\n",
       "             ('model__min_child_weight', 0.00010600217702290037),\n",
       "             ('model__min_split_gain', 0.14370387930901055),\n",
       "             ('model__n_estimators', 369),\n",
       "             ('model__num_leaves', 51)])"
      ]
     },
     "execution_count": 44,
     "metadata": {},
     "output_type": "execute_result"
    }
   ],
   "source": [
    "opt.best_params_"
   ]
  },
  {
   "cell_type": "markdown",
   "id": "d0d3bf5a",
   "metadata": {},
   "source": [
    "## DL Prototype\n",
    "\n",
    "Summary: \n",
    "1. CNN on melspectrogram followed by Linear Classifier\n",
    "- following ideas from: https://towardsdatascience.com/audio-deep-learning-made-simple-part-1-state-of-the-art-techniques-da1d3dff2504\n",
    "2. Create sequence of features and use LSTM"
   ]
  },
  {
   "cell_type": "markdown",
   "id": "f2b2b4d9-b46f-4a93-b201-992819130b26",
   "metadata": {},
   "source": [
    "Mel Spectrograms\n",
    "- regular spectrogram: frequency vs. time\n",
    "- mel spectrogram: mel scale vs time, colors/intensity of values on decibel scale not amplitude"
   ]
  },
  {
   "cell_type": "code",
   "execution_count": 90,
   "id": "126f8b92-3efb-4ed0-9d3e-d8ae94d96363",
   "metadata": {},
   "outputs": [
    {
     "data": {
      "text/plain": [
       "216"
      ]
     },
     "execution_count": 90,
     "metadata": {},
     "output_type": "execute_result"
    }
   ],
   "source": [
    "from math import ceil\n",
    "\n",
    "windows = ceil(extract_limit / 512)\n",
    "windows"
   ]
  },
  {
   "cell_type": "code",
   "execution_count": 110,
   "id": "d84a6e91-ade1-4e35-ac57-cd85cc6699f5",
   "metadata": {},
   "outputs": [
    {
     "data": {
      "application/vnd.jupyter.widget-view+json": {
       "model_id": "31a74236c7154c7bb2fdb10e6b920c9c",
       "version_major": 2,
       "version_minor": 0
      },
      "text/plain": [
       "0it [00:00, ?it/s]"
      ]
     },
     "metadata": {},
     "output_type": "display_data"
    },
    {
     "data": {
      "text/plain": [
       "(13700, 20, 216)"
      ]
     },
     "execution_count": 110,
     "metadata": {},
     "output_type": "execute_result"
    }
   ],
   "source": [
    "from tqdm.notebook import tqdm_notebook\n",
    "tqdm_notebook.pandas()\n",
    "\n",
    "X_mfcc = []\n",
    "for i, r in tqdm_notebook(X.iterrows()):\n",
    "    mfcc = librosa.feature.mfcc(y=r.audio[:extract_limit], sr=r.sr)\n",
    "    # pad the tail of shorter samples with 0s\n",
    "    mfcc_pad = librosa.util.fix_length(mfcc, size=windows)\n",
    "    X_mfcc.append(mfcc_pad)\n",
    "\n",
    "X_mfcc = np.array(X_mfcc)\n",
    "X_mfcc.shape"
   ]
  },
  {
   "cell_type": "code",
   "execution_count": 106,
   "id": "a086fa49-bb6d-4a97-b72b-470b92555c33",
   "metadata": {},
   "outputs": [],
   "source": [
    "# TODO: \n",
    "# - randomly time shift signal\n",
    "\n",
    "# n_mels=64, n_fft=1024, hop_length\n",
    "\n",
    "# ----------------------------\n",
    "# Shifts the signal to the left or right by some percent. Values at the end\n",
    "# are 'wrapped around' to the start of the transformed signal.\n",
    "# ----------------------------\n",
    "@staticmethod\n",
    "def time_shift(aud, shift_limit):\n",
    "    sig,sr = aud\n",
    "    _, sig_len = sig.shape\n",
    "    shift_amt = int(random.random() * shift_limit * sig_len)\n",
    "    return (sig.roll(shift_amt), sr)\n",
    "\n",
    "    # Frequency mask — randomly mask out a range of consecutive frequencies by adding horizontal bars on the spectrogram.\n",
    "    # Time mask — similar to frequency masks, except that we randomly block out ranges of time from the spectrogram by using vertical bars.\n",
    "    \n",
    "\n",
    "    \n",
    "# ----------------------------\n",
    "# Augment the Spectrogram by masking out some sections of it in both the frequency\n",
    "# dimension (ie. horizontal bars) and the time dimension (vertical bars) to prevent\n",
    "# overfitting and to help the model generalise better. The masked sections are\n",
    "# replaced with the mean value.\n",
    "# ----------------------------\n",
    "@staticmethod\n",
    "def spectro_augment(spec, max_mask_pct=0.1, n_freq_masks=1, n_time_masks=1):\n",
    "    _, n_mels, n_steps = spec.shape\n",
    "    mask_value = spec.mean()\n",
    "    aug_spec = spec\n",
    "\n",
    "    freq_mask_param = max_mask_pct * n_mels\n",
    "    for _ in range(n_freq_masks):\n",
    "        aug_spec = transforms.FrequencyMasking(freq_mask_param)(aug_spec, mask_value)\n",
    "\n",
    "    time_mask_param = max_mask_pct * n_steps\n",
    "    for _ in range(n_time_masks):\n",
    "        aug_spec = transforms.TimeMasking(time_mask_param)(aug_spec, mask_value)\n",
    "\n",
    "    return aug_spec"
   ]
  },
  {
   "cell_type": "code",
   "execution_count": 113,
   "id": "93840fdc-fb90-480d-b40b-a2484e67b7e2",
   "metadata": {},
   "outputs": [],
   "source": [
    "from torch.utils.data import DataLoader, Dataset, random_split\n",
    "\n",
    "class MeldDS(Dataset):\n",
    "    def __init__(self, X):\n",
    "        self.X = X\n",
    "        \n",
    "    def __len__(self):\n",
    "        return len(self.X)\n",
    "    \n",
    "    def __getitem__(self, i):\n",
    "        return self.X[i]\n",
    "    \n",
    "ds = MeldDS(X_mfcc)"
   ]
  },
  {
   "cell_type": "code",
   "execution_count": 121,
   "id": "c3d5e97f-b2f2-4108-b633-ebf98c0f900d",
   "metadata": {},
   "outputs": [],
   "source": [
    "from math import floor, ceil\n",
    "\n",
    "lengths = [floor(len(ds) * 0.9), ceil(len(ds) * 0.1)]\n",
    "train_ds, test_ds = random_split(ds, lengths)\n",
    "\n",
    "batch_size = 32  # 64, 128\n",
    "train_dl = DataLoader(train_ds, batch_size=batch_size, shuffle=True)\n",
    "test_dl = DataLoader(test_ds, batch_size=batch_size, shuffle=False)"
   ]
  },
  {
   "cell_type": "code",
   "execution_count": 125,
   "id": "f70ce19b-d69e-4a93-9556-62019b1803ba",
   "metadata": {},
   "outputs": [],
   "source": [
    "# input: (batch_size, num_channels, mfcc bands, timesteps\n",
    "from torch.nn import init\n",
    "from torch import nn\n",
    "import torch.nn.functional as F\n",
    "\n",
    "\n",
    "class AudioClassifier (nn.Module):\n",
    "    def __init__(self):\n",
    "        super().__init__()\n",
    "        conv_layers = []\n",
    "\n",
    "        # First Convolution Block with Relu and Batch Norm. Use Kaiming Initialization\n",
    "        self.conv1 = nn.Conv2d(2, 8, kernel_size=(5, 5), stride=(2, 2), padding=(2, 2))\n",
    "        self.relu1 = nn.ReLU()\n",
    "        self.bn1 = nn.BatchNorm2d(8)\n",
    "        init.kaiming_normal_(self.conv1.weight, a=0.1)\n",
    "        self.conv1.bias.data.zero_()\n",
    "        conv_layers += [self.conv1, self.relu1, self.bn1]\n",
    "\n",
    "        # Second Convolution Block\n",
    "        self.conv2 = nn.Conv2d(8, 16, kernel_size=(3, 3), stride=(2, 2), padding=(1, 1))\n",
    "        self.relu2 = nn.ReLU()\n",
    "        self.bn2 = nn.BatchNorm2d(16)\n",
    "        init.kaiming_normal_(self.conv2.weight, a=0.1)\n",
    "        self.conv2.bias.data.zero_()\n",
    "        conv_layers += [self.conv2, self.relu2, self.bn2]\n",
    "\n",
    "        # Second Convolution Block\n",
    "        self.conv3 = nn.Conv2d(16, 32, kernel_size=(3, 3), stride=(2, 2), padding=(1, 1))\n",
    "        self.relu3 = nn.ReLU()\n",
    "        self.bn3 = nn.BatchNorm2d(32)\n",
    "        init.kaiming_normal_(self.conv3.weight, a=0.1)\n",
    "        self.conv3.bias.data.zero_()\n",
    "        conv_layers += [self.conv3, self.relu3, self.bn3]\n",
    "\n",
    "        # Second Convolution Block\n",
    "        self.conv4 = nn.Conv2d(32, 64, kernel_size=(3, 3), stride=(2, 2), padding=(1, 1))\n",
    "        self.relu4 = nn.ReLU()\n",
    "        self.bn4 = nn.BatchNorm2d(64)\n",
    "        init.kaiming_normal_(self.conv4.weight, a=0.1)\n",
    "        self.conv4.bias.data.zero_()\n",
    "        conv_layers += [self.conv4, self.relu4, self.bn4]\n",
    "\n",
    "        # Linear Classifier\n",
    "        self.ap = nn.AdaptiveAvgPool2d(output_size=1)\n",
    "        self.lin = nn.Linear(in_features=64, out_features=10)\n",
    "\n",
    "        # Wrap the Convolutional Blocks\n",
    "        self.conv = nn.Sequential(*conv_layers)\n",
    " \n",
    "    # ----------------------------\n",
    "    # Forward pass computations\n",
    "    # ----------------------------\n",
    "    def forward(self, x):\n",
    "        # Run the convolutional blocks\n",
    "        x = self.conv(x)\n",
    "\n",
    "        # Adaptive pool and flatten for input to linear layer\n",
    "        x = self.ap(x)\n",
    "        x = x.view(x.shape[0], -1)\n",
    "\n",
    "        # Linear layer\n",
    "        return self.lin(x)\n"
   ]
  },
  {
   "cell_type": "code",
   "execution_count": 127,
   "id": "724763c8-c377-4a41-9481-2e45fc333fae",
   "metadata": {},
   "outputs": [
    {
     "data": {
      "text/plain": [
       "device(type='cpu')"
      ]
     },
     "execution_count": 127,
     "metadata": {},
     "output_type": "execute_result"
    }
   ],
   "source": [
    "import torch\n",
    "model = AudioClassifier()\n",
    "device = torch.device(\"cuda:0\" if torch.cuda.is_available() else \"cpu\")\n",
    "myModel = model.to(device)\n",
    "next(model.parameters()).device"
   ]
  },
  {
   "cell_type": "code",
   "execution_count": null,
   "id": "dd8b8016-ee21-424b-9740-23be0e6579df",
   "metadata": {},
   "outputs": [],
   "source": []
  }
 ],
 "metadata": {
  "kernelspec": {
   "display_name": "py37",
   "language": "python",
   "name": "py37"
  },
  "language_info": {
   "codemirror_mode": {
    "name": "ipython",
    "version": 3
   },
   "file_extension": ".py",
   "mimetype": "text/x-python",
   "name": "python",
   "nbconvert_exporter": "python",
   "pygments_lexer": "ipython3",
   "version": "3.7.12"
  }
 },
 "nbformat": 4,
 "nbformat_minor": 5
}
