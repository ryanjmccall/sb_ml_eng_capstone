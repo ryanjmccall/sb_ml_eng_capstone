{
 "cells": [
  {
   "cell_type": "markdown",
   "id": "9befb218",
   "metadata": {},
   "source": [
    "# ML / DL Prototype \n",
    "\n",
    "Time Estimate: 25 - 30 Hours / 50 - 60 Hours (depending on if you decide to build both prototypes)\n",
    "The goal of this step is to find a machine learning or deep learning approach that works for your problem, and then show that the approach you choose is a viable one. Since the application has not been deployed to production yet, we’ll call it a prototype.\n",
    "\n",
    "For this step, you’ll build your prototype in a Jupyter notebook. Depending on your problem, you’ll be using a more ‘traditional’ machine learning (ML) technique or a deep learning (DL) technique. Your goal is to come up with a working implementation of your prototype in a Jupyter notebook. This prototype could work on a subset of the data but demonstrates that your approach to solving the problem is a viable one based on the following criteria:\n",
    "- The data has been reasonably split into training, validation, and test sets.\n",
    "- You have used the correct metric(s) to evaluate the performance of your\n",
    "algorithm.\n",
    "- The performance of your algorithm is ‘good enough’ as determined by your mentor.\n",
    "\n",
    "### Rubric\n",
    "\n",
    "- The submission shows that the student understands how to design, implement, and justify a suitable machine learning and/or deep learning approach to a problem.\n",
    "- The submission demonstrates that the student made thoughtful decisions about validating and testing the approach:\n",
    "    - The data has been reasonably split into training, validation, and test sets\n",
    "    - The ML/DL algorithm chosen for the approach makes sense in the context of the problem\n",
    "    - The student has used the correct metric(s) to evaluate the performance of their algorithm\n",
    "    - The performance of their algorithm is ‘good enough’ to meet the requirements of the business problem\n",
    "\n",
    "- Well-documented GitHub repository and code. The Jupyter notebooks for the code provide step-by-step documentation that’s easy to follow. "
   ]
  },
  {
   "cell_type": "markdown",
   "id": "5be6f0d9",
   "metadata": {},
   "source": [
    "## ML Prototype\n",
    "\n",
    "Summary: Light Gradient boosting optimized with SK Optimize\n",
    "\n",
    "Pipeline\n",
    "- feature extraction \n",
    "    - audio limit    \n",
    "- oversampling using ADASYN\n",
    "- feature standardization using Quantile Transformer\n",
    "- PCA (search components)\n",
    "- LGBM\n",
    "    - thorough hyperparameter search with skoptimize"
   ]
  },
  {
   "cell_type": "code",
   "execution_count": 3,
   "id": "8d924afc-5072-48e9-93de-d60813ba19c6",
   "metadata": {},
   "outputs": [],
   "source": [
    "import pandas as pd\n",
    "import numpy as np\n",
    "import matplotlib.pyplot as plt\n",
    "\n",
    "from sklearn.model_selection import train_test_split, cross_val_score\n",
    "from sklearn.metrics import silhouette_score\n",
    "import warnings\n",
    "warnings.filterwarnings('ignore')"
   ]
  },
  {
   "cell_type": "markdown",
   "id": "ca909db7-8cca-44b6-a2e9-04e865f201a9",
   "metadata": {},
   "source": [
    "Load dataset including mapped audio and computed features."
   ]
  },
  {
   "cell_type": "code",
   "execution_count": 4,
   "id": "e08f71ef-af68-4d26-a635-f0ad8be835ba",
   "metadata": {},
   "outputs": [],
   "source": [
    "df = pd.read_pickle('data/features/df.pkl')"
   ]
  },
  {
   "cell_type": "code",
   "execution_count": 5,
   "id": "00c1d282-f1a7-42bd-874a-00acf6e79dcc",
   "metadata": {},
   "outputs": [
    {
     "name": "stdout",
     "output_type": "stream",
     "text": [
      "limit  110250\n",
      "sr  22050.0\n",
      "X  (13700, 160)\n",
      "y (13700,)\n",
      "X train  (10960, 160)\n",
      "y train  (10960,)\n",
      "X test (2740, 160)\n",
      "y train (2740,)\n"
     ]
    }
   ],
   "source": [
    "extract_limit = df.extract_limit.values[0]\n",
    "sr = df.sr.values[0]\n",
    "\n",
    "# cannot use select_dtypes since features stored under *int* index *names*\n",
    "X = df[(c for c in df.columns.values if isinstance(c, int))]\n",
    "y = df['emotion_class']\n",
    "\n",
    "test_size = 0.2\n",
    "X_train, X_test, y_train, y_test = train_test_split(X, y, test_size=test_size, stratify=y, random_state=0)\n",
    "\n",
    "print('limit ', extract_limit)\n",
    "print('sr ', sr)\n",
    "print('X ', X.shape)\n",
    "print('y', y.shape)\n",
    "print('X train ', X_train.shape)\n",
    "print('y train ', y_train.shape)\n",
    "print('X test', X_test.shape)\n",
    "print('y train', y_test.shape)"
   ]
  },
  {
   "cell_type": "markdown",
   "id": "e573aedc-4221-4d50-bb7f-7f80e1c6dda0",
   "metadata": {},
   "source": [
    "## Experiment\n",
    "\n",
    "Cross validate extraction hyperparams using silhouette score.\n",
    "\n",
    "mfcc \n",
    "- n_mfcc in [13, 26] \n",
    "- dct_type in [1, 2, 3]\n",
    "\n",
    "chroma_stft\n",
    "- n_fft=220 for .01 s and 2205 for .1 s, hop length can be 1/2 or 1/4 the window size\n",
    "- hop_length\n",
    "- m_chroma=12\n",
    "- center=T/F\n",
    "\n",
    "melspectrogram \n",
    "- n_fft=220 for .01 s and 2205 for .1 s, hop length can be 1/2 or 1/4 the window size\n",
    "- hop_length"
   ]
  },
  {
   "cell_type": "code",
   "execution_count": 41,
   "id": "1008d451-7178-4d4b-bb30-b9d4e826a8b6",
   "metadata": {},
   "outputs": [],
   "source": [
    "import librosa\n",
    "\n",
    "def extract_mfcc(audio, sr, **kwargs):\n",
    "    return np.mean(librosa.feature.mfcc(y=audio, sr=sr, **kwargs).T, axis=0)\n",
    "\n",
    "\n",
    "def extract_chroma(audio, sr, **kwargs):\n",
    "    stft = np.abs(librosa.stft(audio))\n",
    "    return np.mean(librosa.feature.chroma_stft(S=stft, sr=sr, **kwargs).T, axis=0)\n",
    "\n",
    "\n",
    "def extract_melspectrogram(audio, sr, **kwargs):\n",
    "    return np.mean(librosa.feature.melspectrogram(y=audio, sr=sr, **kwargs).T, axis=0)\n",
    "     "
   ]
  },
  {
   "cell_type": "code",
   "execution_count": 42,
   "id": "cc6e5eee-5ef9-4b51-89be-092811300dd7",
   "metadata": {},
   "outputs": [],
   "source": [
    "def run_extract(df, lim, func, **kwargs):\n",
    "    X = []\n",
    "    for i, r in df.iterrows():\n",
    "        audio = r.audio if lim is None else r.audio[:lim]\n",
    "        X.append(func(audio, r.sr, **kwargs))\n",
    "    \n",
    "    return np.array(X)"
   ]
  },
  {
   "cell_type": "code",
   "execution_count": 29,
   "id": "a3f63104-5ba4-4b7c-85a5-e57289d4bce8",
   "metadata": {},
   "outputs": [],
   "source": [
    "# test MFCC hyperparams\n",
    "xs = list(range(10, 30))\n",
    "scores = list()\n",
    "for n_mfcc in xs:  \n",
    "    sample = df.sample(6000)  \n",
    "    X = run_extract(sample, extract_limit, extract_mfcc, n_mfcc=n_mfcc)\n",
    "    scores.append(silhouette_score(X, sample['emotion_class']))"
   ]
  },
  {
   "cell_type": "code",
   "execution_count": 43,
   "id": "dfd22816-164b-407a-98e6-de074a386c0c",
   "metadata": {},
   "outputs": [
    {
     "data": {
      "image/png": "[encoded data removed]",
      "text/plain": [
       "<Figure size 432x288 with 1 Axes>"
      ]
     },
     "metadata": {
      "needs_background": "light"
     },
     "output_type": "display_data"
    }
   ],
   "source": [
    "plt.plot(xs, scores);"
   ]
  },
  {
   "cell_type": "code",
   "execution_count": null,
   "id": "e15e6ca6-d669-494f-9b30-57d0312d1d4a",
   "metadata": {},
   "outputs": [],
   "source": [
    "# test chroma hyperparams\n",
    "xs = list(range(8, 17))\n",
    "scores = list()\n",
    "for n_chroma in xs:  \n",
    "    sample = df.sample(6000)  \n",
    "    X = run_extract(sample, extract_limit, extract_chroma, n_chroma=n_chroma)\n",
    "    scores.append(silhouette_score(X, sample['emotion_class']))"
   ]
  },
  {
   "cell_type": "code",
   "execution_count": 16,
   "id": "71a981dd-1015-4f39-ba50-1203f701ec57",
   "metadata": {},
   "outputs": [
    {
     "ename": "NameError",
     "evalue": "name 'xs' is not defined",
     "output_type": "error",
     "traceback": [
      "\u001b[0;31m---------------------------------------------------------------------------\u001b[0m",
      "\u001b[0;31mNameError\u001b[0m                                 Traceback (most recent call last)",
      "\u001b[0;32m/var/folders/39/glh0vc5x3qq23jgtd82s68200000gn/T/ipykernel_20638/71996810.py\u001b[0m in \u001b[0;36m<module>\u001b[0;34m\u001b[0m\n\u001b[0;32m----> 1\u001b[0;31m \u001b[0mplt\u001b[0m\u001b[0;34m.\u001b[0m\u001b[0mplot\u001b[0m\u001b[0;34m(\u001b[0m\u001b[0mxs\u001b[0m\u001b[0;34m,\u001b[0m \u001b[0mscores\u001b[0m\u001b[0;34m)\u001b[0m\u001b[0;34m;\u001b[0m\u001b[0;34m\u001b[0m\u001b[0;34m\u001b[0m\u001b[0m\n\u001b[0m",
      "\u001b[0;31mNameError\u001b[0m: name 'xs' is not defined"
     ]
    }
   ],
   "source": [
    "plt.plot(xs, scores);"
   ]
  },
  {
   "cell_type": "markdown",
   "id": "4ad9bfce-296e-4f63-aca5-a65f239ca949",
   "metadata": {},
   "source": [
    "## ML Prototype"
   ]
  },
  {
   "cell_type": "markdown",
   "id": "640e20ca-39a1-4b80-ae61-1ed93475e5b2",
   "metadata": {},
   "source": [
    "Pipeline\n",
    "- oversampling using ADASYN\n",
    "- feature standardization using Quantile Transformer\n",
    "- PCA (search components)\n",
    "- LGBM\n",
    "    - thorough hyperparameter search with skoptimize\n",
    "\n"
   ]
  },
  {
   "cell_type": "code",
   "execution_count": null,
   "id": "72c72331-f66e-4728-8c3a-dcc871cf2d66",
   "metadata": {},
   "outputs": [],
   "source": [
    "from imblearn.pipeline import Pipeline \n",
    "from imblearn.over_sampling import ADASYN\n",
    "import lightgbm as lgb\n",
    "from sklearn.preprocessing import QuantileTransformer\n",
    "from sklearn.decomposition import PCA\n",
    "from sklearn.model_selection import GridSearchCV\n",
    "\n",
    "\n",
    "pipe = Pipeline([\n",
    "    ('oversample', ADASYN(random_state=0, n_jobs=-1)), \n",
    "    ('standardize', QuantileTransformer(output_distribution='normal', random_state=0)),\n",
    "    ('decomposition', PCA(random_state=0)),\n",
    "    ('estimator', lgb.LGBMClassifier(objective='multiclass', class_weight='balanced')),\n",
    "])\n",
    "params = {\n",
    "    'decomposition__n_components': list(range(10, 101)) \n",
    "}\n",
    "search = GridSearchCV(pipe, params, scoring='f1_weighted', cv=5, n_jobs=-1) \n",
    "\n",
    "search.fit(X_train, y_train)\n",
    "search.best_params_"
   ]
  },
  {
   "cell_type": "code",
   "execution_count": null,
   "id": "7fc64891-fda5-43c8-b5e1-770e6cb9dd15",
   "metadata": {},
   "outputs": [],
   "source": [
    "import seaborn as sns\n",
    "\n",
    "def grid_search_plot(search, x, hue=None, col=None):\n",
    "    result_df = pd.DataFrame.from_dict(search.cv_results_, orient='columns')\n",
    "    grid = sns.relplot(data=result_df,\n",
    "                kind='line',\n",
    "                x='param_' + x,\n",
    "                y='mean_test_score',\n",
    "                hue='param_' + hue if hue else None, \n",
    "                col='param_' + col if col else None)\n",
    "    grid.fig.set_size_inches(15, 10)"
   ]
  },
  {
   "cell_type": "code",
   "execution_count": null,
   "id": "83250278-8597-4f1b-8bab-f71bafa2ad32",
   "metadata": {},
   "outputs": [],
   "source": [
    "grid_search_plot(search, 'decomposition__n_components');"
   ]
  },
  {
   "cell_type": "code",
   "execution_count": 57,
   "id": "404de0bb-25f7-4dac-9818-0cc0c44aa581",
   "metadata": {},
   "outputs": [],
   "source": [
    "from skopt import BayesSearchCV\n",
    "from skopt.space import Real, Categorical, Integer\n",
    "from skopt.callbacks import TimerCallback, DeadlineStopper\n",
    "\n",
    "# BayesSearchCV"
   ]
  },
  {
   "cell_type": "code",
   "execution_count": null,
   "id": "4730a6e8-99bf-47b8-a2ff-dbf9b279cdd7",
   "metadata": {},
   "outputs": [],
   "source": []
  },
  {
   "cell_type": "markdown",
   "id": "d0d3bf5a",
   "metadata": {},
   "source": [
    "## DL Prototype\n",
    "\n",
    "Summary: \n",
    "1. CNN on melspectrogram followed by Linear Classifier\n",
    "2. Create sequence of features and use LSTM"
   ]
  },
  {
   "cell_type": "code",
   "execution_count": null,
   "id": "ddebcd06",
   "metadata": {},
   "outputs": [],
   "source": []
  }
 ],
 "metadata": {
  "kernelspec": {
   "display_name": "py38",
   "language": "python",
   "name": "py38"
  },
  "language_info": {
   "codemirror_mode": {
    "name": "ipython",
    "version": 3
   },
   "file_extension": ".py",
   "mimetype": "text/x-python",
   "name": "python",
   "nbconvert_exporter": "python",
   "pygments_lexer": "ipython3",
   "version": "3.8.12"
  }
 },
 "nbformat": 4,
 "nbformat_minor": 5
}
