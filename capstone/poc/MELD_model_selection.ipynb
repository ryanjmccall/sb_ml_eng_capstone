{
 "cells": [
  {
   "cell_type": "markdown",
   "id": "6a6722af",
   "metadata": {},
   "source": [
    "## Machine Learning Engineering Career Track Capstone\n",
    "    \n",
    "### Step 6: Experiment With Various Models"
   ]
  },
  {
   "cell_type": "markdown",
   "id": "755ea525",
   "metadata": {},
   "source": [
    "The purpose of this step is for you to rigorously test how to build the best model for analyzing the patterns found in your dataset. \n",
    "Perform some of the following activities:\n",
    "- Build an automated process to test many modeling techniques and ML algorithms with your data to see which one yields the best results\n",
    "- Define the performance metric(s) best applied to your problem (accuracy, F1, RSME, LOC, etc.)\n",
    "- Test various loss functions across models to see which one yields the best result\n",
    "- Perform tuning of one or more model, across one or multiple hyperparameters\n",
    "- Build a robust cross-validation process for your problem\n",
    "- Ensemble multiple models together, and demonstrate the superior results\n",
    "- Analyze the prediction results to confirm how some of your models ended up properly generalizing or overfitting the data\n",
    "- Present your best model(s)"
   ]
  },
  {
   "cell_type": "code",
   "execution_count": 4,
   "id": "b1db6774",
   "metadata": {},
   "outputs": [],
   "source": [
    "# which classifiers? LogisticRegression, RandomForest, MLPClassifier, SVM, XGBoost, LSTM"
   ]
  },
  {
   "cell_type": "code",
   "execution_count": null,
   "id": "afa6fb91",
   "metadata": {},
   "outputs": [],
   "source": []
  }
 ],
 "metadata": {
  "kernelspec": {
   "display_name": "Python 3 (ipykernel)",
   "language": "python",
   "name": "python3"
  },
  "language_info": {
   "codemirror_mode": {
    "name": "ipython",
    "version": 3
   },
   "file_extension": ".py",
   "mimetype": "text/x-python",
   "name": "python",
   "nbconvert_exporter": "python",
   "pygments_lexer": "ipython3",
   "version": "3.8.10"
  }
 },
 "nbformat": 4,
 "nbformat_minor": 5
}
