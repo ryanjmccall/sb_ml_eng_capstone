{
 "cells": [
  {
   "cell_type": "code",
   "execution_count": 55,
   "id": "91868c8c",
   "metadata": {},
   "outputs": [],
   "source": [
    "import pandas as pd\n",
    "import numpy as np\n",
    "from collections import Counter"
   ]
  },
  {
   "cell_type": "code",
   "execution_count": 141,
   "id": "2022e201",
   "metadata": {},
   "outputs": [
    {
     "data": {
      "text/html": [
       "<div>\n",
       "<style scoped>\n",
       "    .dataframe tbody tr th:only-of-type {\n",
       "        vertical-align: middle;\n",
       "    }\n",
       "\n",
       "    .dataframe tbody tr th {\n",
       "        vertical-align: top;\n",
       "    }\n",
       "\n",
       "    .dataframe thead th {\n",
       "        text-align: right;\n",
       "    }\n",
       "</style>\n",
       "<table border=\"1\" class=\"dataframe\">\n",
       "  <thead>\n",
       "    <tr style=\"text-align: right;\">\n",
       "      <th></th>\n",
       "      <th>Sr No.</th>\n",
       "      <th>Utterance</th>\n",
       "      <th>Speaker</th>\n",
       "      <th>Emotion</th>\n",
       "      <th>Sentiment</th>\n",
       "      <th>Dialogue_ID</th>\n",
       "      <th>Utterance_ID</th>\n",
       "      <th>Season</th>\n",
       "      <th>Episode</th>\n",
       "      <th>StartTime</th>\n",
       "      <th>EndTime</th>\n",
       "    </tr>\n",
       "  </thead>\n",
       "  <tbody>\n",
       "    <tr>\n",
       "      <th>0</th>\n",
       "      <td>1</td>\n",
       "      <td>also I was the point person on my companys tr...</td>\n",
       "      <td>Chandler</td>\n",
       "      <td>neutral</td>\n",
       "      <td>neutral</td>\n",
       "      <td>0</td>\n",
       "      <td>0</td>\n",
       "      <td>8</td>\n",
       "      <td>21</td>\n",
       "      <td>00:16:16,059</td>\n",
       "      <td>00:16:21,731</td>\n",
       "    </tr>\n",
       "    <tr>\n",
       "      <th>1</th>\n",
       "      <td>2</td>\n",
       "      <td>You mustve had your hands full.</td>\n",
       "      <td>The Interviewer</td>\n",
       "      <td>neutral</td>\n",
       "      <td>neutral</td>\n",
       "      <td>0</td>\n",
       "      <td>1</td>\n",
       "      <td>8</td>\n",
       "      <td>21</td>\n",
       "      <td>00:16:21,940</td>\n",
       "      <td>00:16:23,442</td>\n",
       "    </tr>\n",
       "    <tr>\n",
       "      <th>2</th>\n",
       "      <td>3</td>\n",
       "      <td>That I did. That I did.</td>\n",
       "      <td>Chandler</td>\n",
       "      <td>neutral</td>\n",
       "      <td>neutral</td>\n",
       "      <td>0</td>\n",
       "      <td>2</td>\n",
       "      <td>8</td>\n",
       "      <td>21</td>\n",
       "      <td>00:16:23,442</td>\n",
       "      <td>00:16:26,389</td>\n",
       "    </tr>\n",
       "    <tr>\n",
       "      <th>3</th>\n",
       "      <td>4</td>\n",
       "      <td>So lets talk a little bit about your duties.</td>\n",
       "      <td>The Interviewer</td>\n",
       "      <td>neutral</td>\n",
       "      <td>neutral</td>\n",
       "      <td>0</td>\n",
       "      <td>3</td>\n",
       "      <td>8</td>\n",
       "      <td>21</td>\n",
       "      <td>00:16:26,820</td>\n",
       "      <td>00:16:29,572</td>\n",
       "    </tr>\n",
       "    <tr>\n",
       "      <th>4</th>\n",
       "      <td>5</td>\n",
       "      <td>My duties?  All right.</td>\n",
       "      <td>Chandler</td>\n",
       "      <td>surprise</td>\n",
       "      <td>positive</td>\n",
       "      <td>0</td>\n",
       "      <td>4</td>\n",
       "      <td>8</td>\n",
       "      <td>21</td>\n",
       "      <td>00:16:34,452</td>\n",
       "      <td>00:16:40,917</td>\n",
       "    </tr>\n",
       "  </tbody>\n",
       "</table>\n",
       "</div>"
      ],
      "text/plain": [
       "   Sr No.                                          Utterance          Speaker  \\\n",
       "0       1  also I was the point person on my companys tr...         Chandler   \n",
       "1       2                   You mustve had your hands full.  The Interviewer   \n",
       "2       3                            That I did. That I did.         Chandler   \n",
       "3       4      So lets talk a little bit about your duties.  The Interviewer   \n",
       "4       5                             My duties?  All right.         Chandler   \n",
       "\n",
       "    Emotion Sentiment  Dialogue_ID  Utterance_ID  Season  Episode  \\\n",
       "0   neutral   neutral            0             0       8       21   \n",
       "1   neutral   neutral            0             1       8       21   \n",
       "2   neutral   neutral            0             2       8       21   \n",
       "3   neutral   neutral            0             3       8       21   \n",
       "4  surprise  positive            0             4       8       21   \n",
       "\n",
       "      StartTime       EndTime  \n",
       "0  00:16:16,059  00:16:21,731  \n",
       "1  00:16:21,940  00:16:23,442  \n",
       "2  00:16:23,442  00:16:26,389  \n",
       "3  00:16:26,820  00:16:29,572  \n",
       "4  00:16:34,452  00:16:40,917  "
      ]
     },
     "execution_count": 141,
     "metadata": {},
     "output_type": "execute_result"
    }
   ],
   "source": [
    "train_df = pd.read_csv('data/train_sent_emo.csv')\n",
    "train_df.head(5)"
   ]
  },
  {
   "cell_type": "code",
   "execution_count": 142,
   "id": "406d9582",
   "metadata": {},
   "outputs": [
    {
     "name": "stdout",
     "output_type": "stream",
     "text": [
      "count        9989\n",
      "unique          7\n",
      "top       neutral\n",
      "freq         4710\n",
      "Name: Emotion, dtype: object \n",
      "\n",
      "neutral 4710\n",
      "joy 1743\n",
      "surprise 1205\n",
      "anger 1109\n",
      "sadness 683\n",
      "disgust 271\n",
      "fear 268\n"
     ]
    }
   ],
   "source": [
    "print(df['Emotion'].describe(), '\\n')\n",
    "\n",
    "cntr = Counter(train_df['Emotion'])\n",
    "for e in sorted(cntr.items(), key=lambda x: x[1], reverse=True):\n",
    "    print(*e)"
   ]
  },
  {
   "cell_type": "code",
   "execution_count": 123,
   "id": "382c70b3",
   "metadata": {},
   "outputs": [
    {
     "data": {
      "text/html": [
       "<div>\n",
       "<style scoped>\n",
       "    .dataframe tbody tr th:only-of-type {\n",
       "        vertical-align: middle;\n",
       "    }\n",
       "\n",
       "    .dataframe tbody tr th {\n",
       "        vertical-align: top;\n",
       "    }\n",
       "\n",
       "    .dataframe thead th {\n",
       "        text-align: right;\n",
       "    }\n",
       "</style>\n",
       "<table border=\"1\" class=\"dataframe\">\n",
       "  <thead>\n",
       "    <tr style=\"text-align: right;\">\n",
       "      <th></th>\n",
       "      <th>Sr No.</th>\n",
       "      <th>Utterance</th>\n",
       "      <th>Speaker</th>\n",
       "      <th>Emotion</th>\n",
       "      <th>Sentiment</th>\n",
       "      <th>Dialogue_ID</th>\n",
       "      <th>Utterance_ID</th>\n",
       "      <th>Season</th>\n",
       "      <th>Episode</th>\n",
       "      <th>StartTime</th>\n",
       "      <th>EndTime</th>\n",
       "    </tr>\n",
       "  </thead>\n",
       "  <tbody>\n",
       "    <tr>\n",
       "      <th>0</th>\n",
       "      <td>1</td>\n",
       "      <td>Why do all youre coffee mugs have numbers on ...</td>\n",
       "      <td>Mark</td>\n",
       "      <td>surprise</td>\n",
       "      <td>positive</td>\n",
       "      <td>0</td>\n",
       "      <td>0</td>\n",
       "      <td>3</td>\n",
       "      <td>19</td>\n",
       "      <td>00:14:38,127</td>\n",
       "      <td>00:14:40,378</td>\n",
       "    </tr>\n",
       "    <tr>\n",
       "      <th>1</th>\n",
       "      <td>2</td>\n",
       "      <td>Oh. Thats so Monica can keep track. That way ...</td>\n",
       "      <td>Rachel</td>\n",
       "      <td>anger</td>\n",
       "      <td>negative</td>\n",
       "      <td>0</td>\n",
       "      <td>1</td>\n",
       "      <td>3</td>\n",
       "      <td>19</td>\n",
       "      <td>00:14:40,629</td>\n",
       "      <td>00:14:47,385</td>\n",
       "    </tr>\n",
       "    <tr>\n",
       "      <th>2</th>\n",
       "      <td>3</td>\n",
       "      <td>Y'know what?</td>\n",
       "      <td>Rachel</td>\n",
       "      <td>neutral</td>\n",
       "      <td>neutral</td>\n",
       "      <td>0</td>\n",
       "      <td>2</td>\n",
       "      <td>3</td>\n",
       "      <td>19</td>\n",
       "      <td>00:14:56,353</td>\n",
       "      <td>00:14:57,520</td>\n",
       "    </tr>\n",
       "    <tr>\n",
       "      <th>3</th>\n",
       "      <td>19</td>\n",
       "      <td>Come on, Lydia, you can do it.</td>\n",
       "      <td>Joey</td>\n",
       "      <td>neutral</td>\n",
       "      <td>neutral</td>\n",
       "      <td>1</td>\n",
       "      <td>0</td>\n",
       "      <td>1</td>\n",
       "      <td>23</td>\n",
       "      <td>0:10:44,769</td>\n",
       "      <td>0:10:46,146</td>\n",
       "    </tr>\n",
       "    <tr>\n",
       "      <th>4</th>\n",
       "      <td>20</td>\n",
       "      <td>Push!</td>\n",
       "      <td>Joey</td>\n",
       "      <td>joy</td>\n",
       "      <td>positive</td>\n",
       "      <td>1</td>\n",
       "      <td>1</td>\n",
       "      <td>1</td>\n",
       "      <td>23</td>\n",
       "      <td>0:10:46,146</td>\n",
       "      <td>0:10:46,833</td>\n",
       "    </tr>\n",
       "  </tbody>\n",
       "</table>\n",
       "</div>"
      ],
      "text/plain": [
       "   Sr No.                                          Utterance Speaker  \\\n",
       "0       1  Why do all youre coffee mugs have numbers on ...    Mark   \n",
       "1       2  Oh. Thats so Monica can keep track. That way ...  Rachel   \n",
       "2       3                                       Y'know what?  Rachel   \n",
       "3      19                     Come on, Lydia, you can do it.    Joey   \n",
       "4      20                                              Push!    Joey   \n",
       "\n",
       "    Emotion Sentiment  Dialogue_ID  Utterance_ID  Season  Episode  \\\n",
       "0  surprise  positive            0             0       3       19   \n",
       "1     anger  negative            0             1       3       19   \n",
       "2   neutral   neutral            0             2       3       19   \n",
       "3   neutral   neutral            1             0       1       23   \n",
       "4       joy  positive            1             1       1       23   \n",
       "\n",
       "      StartTime       EndTime  \n",
       "0  00:14:38,127  00:14:40,378  \n",
       "1  00:14:40,629  00:14:47,385  \n",
       "2  00:14:56,353  00:14:57,520  \n",
       "3   0:10:44,769   0:10:46,146  \n",
       "4   0:10:46,146   0:10:46,833  "
      ]
     },
     "execution_count": 123,
     "metadata": {},
     "output_type": "execute_result"
    }
   ],
   "source": [
    "test_df = pd.read_csv('data/test_sent_emo.csv')\n",
    "test_df.head(5)"
   ]
  },
  {
   "cell_type": "code",
   "execution_count": 124,
   "id": "4462fad2",
   "metadata": {},
   "outputs": [
    {
     "name": "stdout",
     "output_type": "stream",
     "text": [
      "predict=: neutral. accuracy= 4710 / 2610 or 48.12%\n"
     ]
    }
   ],
   "source": [
    "# Determine zero rule baseline on test labels\n",
    "total_labels = len(test_df['Emotion'])\n",
    "c = Counter(test_df['Emotion'])\n",
    "prediction = max(c, key=lambda k: c[k])\n",
    "accuracy = c[prediction] / total_labels * 100\n",
    "print(f'predict=: {prediction}. accuracy= {cntr[prediction]} / {total_labels} or {accuracy:.2f}%')"
   ]
  },
  {
   "cell_type": "code",
   "execution_count": 143,
   "id": "0e6d7879",
   "metadata": {},
   "outputs": [
    {
     "data": {
      "text/plain": [
       "0           0_0\n",
       "1           0_1\n",
       "2           0_2\n",
       "3           0_3\n",
       "4           0_4\n",
       "         ...   \n",
       "9984    1038_13\n",
       "9985    1038_14\n",
       "9986    1038_15\n",
       "9987    1038_16\n",
       "9988    1038_17\n",
       "Name: dia_utt, Length: 9989, dtype: object"
      ]
     },
     "execution_count": 143,
     "metadata": {},
     "output_type": "execute_result"
    }
   ],
   "source": [
    "def add_dia_utt(dataframe):\n",
    "    # feature vectors are stored by 'dia_utt' so create that in the df\n",
    "    cols = ['Dialogue_ID', 'Utterance_ID']\n",
    "    dataframe['dia_utt'] = dataframe[cols].apply(lambda row: '_'.join(row.values.astype(str)), axis=1)\n",
    "\n",
    "add_dia_utt(train_df)\n",
    "train_df['dia_utt']"
   ]
  },
  {
   "cell_type": "code",
   "execution_count": 144,
   "id": "13ce96da",
   "metadata": {},
   "outputs": [
    {
     "data": {
      "text/plain": [
       "Sr No.          9989\n",
       "Utterance       9989\n",
       "Speaker         9989\n",
       "Emotion         9989\n",
       "Sentiment       9989\n",
       "Dialogue_ID     9989\n",
       "Utterance_ID    9989\n",
       "Season          9989\n",
       "Episode         9989\n",
       "StartTime       9989\n",
       "EndTime         9989\n",
       "dia_utt         9989\n",
       "dtype: int64"
      ]
     },
     "execution_count": 144,
     "metadata": {},
     "output_type": "execute_result"
    }
   ],
   "source": [
    "train_df.count()"
   ]
  },
  {
   "cell_type": "markdown",
   "id": "5b893b4e",
   "metadata": {},
   "source": [
    "__audio_embeddings_feature_selection_emotion.pkl__\n",
    "\n",
    "__audio_embeddings_feature_selection_sentiment.pkl__ \n",
    "\n",
    "These consist of 1611 dimensional audio feature vectors of each utterance trained for emotion/sentiment classification. These features are originally extracted from openSMILE and then followed by L2-based feature selection using SVM. It is a list comprising of 3 dictionaries for train, val and the test set with each dictionary indexed in the format dia_utt, where dia is the dialogue id and utt is the utterance id. For eg. train_audio_emb['0_0'].shape = (1611, )"
   ]
  },
  {
   "cell_type": "code",
   "execution_count": 43,
   "id": "797b46a5",
   "metadata": {},
   "outputs": [],
   "source": [
    "import pickle\n",
    "\n",
    "fpath = 'data/audio_embeddings_feature_selection_emotion.pkl'\n",
    "\n",
    "with open(fpath, 'rb') as f:\n",
    "    splits = pickle.load(f)\n",
    "    train_audio_emb, val_audio_emb, test_audio_emb = splits"
   ]
  },
  {
   "cell_type": "code",
   "execution_count": 44,
   "id": "ef7b35dc",
   "metadata": {},
   "outputs": [
    {
     "name": "stdout",
     "output_type": "stream",
     "text": [
      "9989\n",
      "1109\n",
      "2610\n"
     ]
    }
   ],
   "source": [
    "for d in splits:\n",
    "    print(len(d))"
   ]
  },
  {
   "cell_type": "code",
   "execution_count": 45,
   "id": "f536475a",
   "metadata": {},
   "outputs": [
    {
     "data": {
      "text/plain": [
       "1611"
      ]
     },
     "execution_count": 45,
     "metadata": {},
     "output_type": "execute_result"
    }
   ],
   "source": [
    "sample_val = train_audio_emb['0_0']\n",
    "len(sample_val)"
   ]
  },
  {
   "cell_type": "code",
   "execution_count": 46,
   "id": "eaa5d54a",
   "metadata": {},
   "outputs": [
    {
     "name": "stdout",
     "output_type": "stream",
     "text": [
      "Counter({1611: 9989})\n",
      "Counter({1611: 1109})\n",
      "Counter({1611: 2610})\n"
     ]
    }
   ],
   "source": [
    "\n",
    "# check size of feature vectors\n",
    "for emb in splits:\n",
    "    print(Counter(len(v) for v in emb.values()))"
   ]
  },
  {
   "cell_type": "code",
   "execution_count": 47,
   "id": "4987cb77",
   "metadata": {},
   "outputs": [
    {
     "data": {
      "text/plain": [
       "numpy.ndarray"
      ]
     },
     "execution_count": 47,
     "metadata": {},
     "output_type": "execute_result"
    }
   ],
   "source": [
    "type(sample_val)"
   ]
  },
  {
   "cell_type": "code",
   "execution_count": 50,
   "id": "312d5b71",
   "metadata": {},
   "outputs": [
    {
     "name": "stdout",
     "output_type": "stream",
     "text": [
      "train False\n",
      "val False\n",
      "test False\n"
     ]
    }
   ],
   "source": [
    "# check for nan\n",
    "for ds, emb in zip(('train', 'val', 'test'), splits):\n",
    "    hasNan = any(np.isnan(np.sum(v)) for v in emb.values())\n",
    "    print(f'{ds} {hasNan}')\n",
    "    assert not hasNan"
   ]
  },
  {
   "cell_type": "code",
   "execution_count": 78,
   "id": "279bc69b",
   "metadata": {},
   "outputs": [],
   "source": [
    "# want to ensure the labels and the feature vectors match up\n",
    "assert len(df['dia_utt']) == len(train_audio_emb), 'train label count unequal to train feature vectors'"
   ]
  },
  {
   "cell_type": "code",
   "execution_count": 80,
   "id": "ea9ab3f6",
   "metadata": {},
   "outputs": [],
   "source": [
    "# assert every key in the labels has a corresponding feature key\n",
    "feature_keys = set(train_audio_emb)\n",
    "assert all(k in feature_keys for k in df['dia_utt'])"
   ]
  },
  {
   "cell_type": "markdown",
   "id": "855b6d22",
   "metadata": {},
   "source": [
    "__Must convert the emotion labels to numeric. Use ordinal encoding__\n"
   ]
  },
  {
   "cell_type": "code",
   "execution_count": 145,
   "id": "89d1dd30",
   "metadata": {},
   "outputs": [
    {
     "name": "stdout",
     "output_type": "stream",
     "text": [
      "neutral 4.0\n",
      "neutral 4.0\n",
      "neutral 4.0\n",
      "neutral 4.0\n",
      "surprise 6.0\n",
      "neutral 4.0\n",
      "neutral 4.0\n",
      "neutral 4.0\n",
      "neutral 4.0\n",
      "neutral 4.0\n",
      "fear 2.0\n",
      "neutral 4.0\n",
      "surprise 6.0\n",
      "neutral 4.0\n",
      "surprise 6.0\n",
      "sadness 5.0\n",
      "surprise 6.0\n",
      "fear 2.0\n",
      "neutral 4.0\n",
      "neutral 4.0\n"
     ]
    },
    {
     "data": {
      "text/plain": [
       "(9989, 1)"
      ]
     },
     "execution_count": 145,
     "metadata": {},
     "output_type": "execute_result"
    }
   ],
   "source": [
    "from sklearn.preprocessing import OrdinalEncoder\n",
    "\n",
    "labels = np.asarray(train_df['Emotion']).reshape(-1, 1)\n",
    "encoder = OrdinalEncoder()\n",
    "y_train = encoder.fit_transform(labels)\n",
    "\n",
    "sample = 20\n",
    "for a, b in zip(labels[:sample], y_train[:sample]):\n",
    "    print(a[0], b[0])\n",
    "    \n",
    "y_train.shape"
   ]
  },
  {
   "cell_type": "code",
   "execution_count": 148,
   "id": "9dc0c805",
   "metadata": {},
   "outputs": [
    {
     "data": {
      "text/plain": [
       "array([0.57997844, 0.97480089, 0.15641021, ..., 0.21155205, 0.46432428,\n",
       "       0.2308289 ])"
      ]
     },
     "execution_count": 148,
     "metadata": {},
     "output_type": "execute_result"
    }
   ],
   "source": [
    "sample_val"
   ]
  },
  {
   "cell_type": "code",
   "execution_count": 117,
   "id": "5292d7cb",
   "metadata": {},
   "outputs": [
    {
     "data": {
      "text/plain": [
       "0       [0.579978439650127, 0.9748008896749043, 0.1564...\n",
       "1       [0.28147418892256576, 0.0, 0.12441514993438094...\n",
       "2       [0.5014279709337522, 0.0, 0.058416431345751405...\n",
       "3       [0.1388128533473851, 0.0, 0.08666499619317054,...\n",
       "4       [0.25864073256920134, 0.0, 0.20901806323479546...\n",
       "                              ...                        \n",
       "9984    [0.2417414004975775, 0.9093490972563685, 0.062...\n",
       "9985    [0.4842651681687178, 0.0, 0.11541309428669909,...\n",
       "9986    [0.5233553696735176, 0.0, 0.2133521777759187, ...\n",
       "9987    [0.8594383850654352, 0.0, 0.6220717276650923, ...\n",
       "9988    [0.9869913859161842, 0.6145796926996386, 0.182...\n",
       "Name: audio_features, Length: 9989, dtype: object"
      ]
     },
     "execution_count": 117,
     "metadata": {},
     "output_type": "execute_result"
    }
   ],
   "source": [
    "# df['audio_features'] = df['dia_utt']\n",
    "# df['audio_features'] = df['audio_features'].map(train_audio_emb)\n",
    "# df['audio_features']"
   ]
  },
  {
   "cell_type": "code",
   "execution_count": 146,
   "id": "43cf427e",
   "metadata": {},
   "outputs": [
    {
     "data": {
      "text/plain": [
       "(9989, 1611)"
      ]
     },
     "execution_count": 146,
     "metadata": {},
     "output_type": "execute_result"
    }
   ],
   "source": [
    "X_train = np.array([train_audio_emb[x] for x in train_df['dia_utt']])\n",
    "X_train.shape"
   ]
  },
  {
   "cell_type": "code",
   "execution_count": 125,
   "id": "37e0e374",
   "metadata": {},
   "outputs": [],
   "source": [
    "from sklearn import tree\n",
    "clf = tree.DecisionTreeClassifier()\n",
    "clf = clf.fit(X_train, y_train)"
   ]
  },
  {
   "cell_type": "code",
   "execution_count": 130,
   "id": "ed70c8c8",
   "metadata": {},
   "outputs": [
    {
     "data": {
      "text/plain": [
       "0          0_0\n",
       "1          0_1\n",
       "2          0_2\n",
       "3          1_0\n",
       "4          1_1\n",
       "         ...  \n",
       "2605    279_11\n",
       "2606    279_12\n",
       "2607    279_13\n",
       "2608    279_14\n",
       "2609    279_15\n",
       "Name: dia_utt, Length: 2610, dtype: object"
      ]
     },
     "execution_count": 130,
     "metadata": {},
     "output_type": "execute_result"
    }
   ],
   "source": [
    "add_dia_utt(test_df)\n",
    "test_df['dia_utt']"
   ]
  },
  {
   "cell_type": "code",
   "execution_count": 131,
   "id": "e0bf7253",
   "metadata": {},
   "outputs": [
    {
     "data": {
      "text/plain": [
       "(2610, 1611)"
      ]
     },
     "execution_count": 131,
     "metadata": {},
     "output_type": "execute_result"
    }
   ],
   "source": [
    "X_test = np.array([test_audio_emb[x] for x in test_df['dia_utt']])\n",
    "X_test.shape"
   ]
  },
  {
   "cell_type": "code",
   "execution_count": null,
   "id": "c3148ad3",
   "metadata": {},
   "outputs": [],
   "source": []
  },
  {
   "cell_type": "code",
   "execution_count": 138,
   "id": "5d2a26c1",
   "metadata": {},
   "outputs": [
    {
     "data": {
      "text/plain": [
       "array([0., 4., 0., ..., 0., 3., 4.])"
      ]
     },
     "execution_count": 138,
     "metadata": {},
     "output_type": "execute_result"
    }
   ],
   "source": [
    "pred_test = clf.predict(X_test)\n",
    "pred_test"
   ]
  },
  {
   "cell_type": "code",
   "execution_count": 137,
   "id": "a13101c1",
   "metadata": {},
   "outputs": [
    {
     "data": {
      "text/plain": [
       "array([[6.],\n",
       "       [0.],\n",
       "       [4.],\n",
       "       ...,\n",
       "       [4.],\n",
       "       [4.],\n",
       "       [4.]])"
      ]
     },
     "execution_count": 137,
     "metadata": {},
     "output_type": "execute_result"
    }
   ],
   "source": [
    "test_labels = np.asarray(test_df['Emotion']).reshape(-1, 1)\n",
    "y_test = encoder.fit_transform(test_labels) \n",
    "y_test"
   ]
  },
  {
   "cell_type": "code",
   "execution_count": 139,
   "id": "ac485586",
   "metadata": {},
   "outputs": [
    {
     "data": {
      "text/plain": [
       "0.2421455938697318"
      ]
     },
     "execution_count": 139,
     "metadata": {},
     "output_type": "execute_result"
    }
   ],
   "source": [
    "from sklearn.metrics import accuracy_score\n",
    "accuracy_score(y_test, pred_test, normalize=True)"
   ]
  },
  {
   "cell_type": "markdown",
   "id": "7921ae3f",
   "metadata": {},
   "source": [
    "__Quick Dim Reduction for GCP__"
   ]
  },
  {
   "cell_type": "code",
   "execution_count": 195,
   "id": "23cdb1d0",
   "metadata": {},
   "outputs": [
    {
     "name": "stdout",
     "output_type": "stream",
     "text": [
      "(9989, 400)\n",
      "(2610, 400)\n"
     ]
    }
   ],
   "source": [
    "from sklearn import cluster\n",
    "\n",
    "train_feats = np.array([train_audio_emb[x] for x in train_df['dia_utt']])\n",
    "test_feats = np.array([test_audio_emb[x] for x in test_df['dia_utt']])\n",
    "\n",
    "agglo = cluster.FeatureAgglomeration(n_clusters=400) # rougly 1/4 orginal count\n",
    "agglo.fit(train_feats)\n",
    "\n",
    "X_train_reduced = agglo.transform(train_feats)\n",
    "print(X_train_reduced.shape)\n",
    "\n",
    "X_test_reduced = agglo.transform(test_feats)\n",
    "print(X_test_reduced.shape)"
   ]
  },
  {
   "cell_type": "markdown",
   "id": "3c3996f4",
   "metadata": {},
   "source": [
    "__Export CSV__"
   ]
  },
  {
   "cell_type": "code",
   "execution_count": 205,
   "id": "18e1964f",
   "metadata": {},
   "outputs": [
    {
     "data": {
      "text/html": [
       "<div>\n",
       "<style scoped>\n",
       "    .dataframe tbody tr th:only-of-type {\n",
       "        vertical-align: middle;\n",
       "    }\n",
       "\n",
       "    .dataframe tbody tr th {\n",
       "        vertical-align: top;\n",
       "    }\n",
       "\n",
       "    .dataframe thead th {\n",
       "        text-align: right;\n",
       "    }\n",
       "</style>\n",
       "<table border=\"1\" class=\"dataframe\">\n",
       "  <thead>\n",
       "    <tr style=\"text-align: right;\">\n",
       "      <th></th>\n",
       "      <th>0</th>\n",
       "      <th>1</th>\n",
       "      <th>2</th>\n",
       "      <th>3</th>\n",
       "      <th>4</th>\n",
       "      <th>5</th>\n",
       "      <th>6</th>\n",
       "      <th>7</th>\n",
       "      <th>8</th>\n",
       "      <th>9</th>\n",
       "      <th>...</th>\n",
       "      <th>391</th>\n",
       "      <th>392</th>\n",
       "      <th>393</th>\n",
       "      <th>394</th>\n",
       "      <th>395</th>\n",
       "      <th>396</th>\n",
       "      <th>397</th>\n",
       "      <th>398</th>\n",
       "      <th>399</th>\n",
       "      <th>target</th>\n",
       "    </tr>\n",
       "  </thead>\n",
       "  <tbody>\n",
       "    <tr>\n",
       "      <th>0</th>\n",
       "      <td>0.866356</td>\n",
       "      <td>0.614324</td>\n",
       "      <td>0.185344</td>\n",
       "      <td>0.111245</td>\n",
       "      <td>0.648110</td>\n",
       "      <td>0.578526</td>\n",
       "      <td>0.310698</td>\n",
       "      <td>0.152067</td>\n",
       "      <td>0.674275</td>\n",
       "      <td>0.442923</td>\n",
       "      <td>...</td>\n",
       "      <td>0.968448</td>\n",
       "      <td>0.224236</td>\n",
       "      <td>0.653971</td>\n",
       "      <td>0.717273</td>\n",
       "      <td>0.627245</td>\n",
       "      <td>0.388492</td>\n",
       "      <td>0.985613</td>\n",
       "      <td>0.311949</td>\n",
       "      <td>0.780483</td>\n",
       "      <td>neutral</td>\n",
       "    </tr>\n",
       "    <tr>\n",
       "      <th>1</th>\n",
       "      <td>0.243612</td>\n",
       "      <td>0.505836</td>\n",
       "      <td>0.535198</td>\n",
       "      <td>0.161876</td>\n",
       "      <td>0.447502</td>\n",
       "      <td>0.226764</td>\n",
       "      <td>0.244084</td>\n",
       "      <td>0.231661</td>\n",
       "      <td>0.239147</td>\n",
       "      <td>0.658598</td>\n",
       "      <td>...</td>\n",
       "      <td>0.345272</td>\n",
       "      <td>0.465961</td>\n",
       "      <td>0.338253</td>\n",
       "      <td>0.757522</td>\n",
       "      <td>0.324574</td>\n",
       "      <td>0.493105</td>\n",
       "      <td>0.331571</td>\n",
       "      <td>0.635806</td>\n",
       "      <td>0.263701</td>\n",
       "      <td>neutral</td>\n",
       "    </tr>\n",
       "    <tr>\n",
       "      <th>2</th>\n",
       "      <td>0.492822</td>\n",
       "      <td>0.384429</td>\n",
       "      <td>0.047081</td>\n",
       "      <td>0.670914</td>\n",
       "      <td>0.622658</td>\n",
       "      <td>0.485583</td>\n",
       "      <td>0.188774</td>\n",
       "      <td>0.921643</td>\n",
       "      <td>0.487226</td>\n",
       "      <td>0.546144</td>\n",
       "      <td>...</td>\n",
       "      <td>0.313540</td>\n",
       "      <td>0.656917</td>\n",
       "      <td>0.473370</td>\n",
       "      <td>0.292813</td>\n",
       "      <td>0.255299</td>\n",
       "      <td>0.369913</td>\n",
       "      <td>0.473489</td>\n",
       "      <td>0.878479</td>\n",
       "      <td>0.473124</td>\n",
       "      <td>neutral</td>\n",
       "    </tr>\n",
       "    <tr>\n",
       "      <th>3</th>\n",
       "      <td>0.357869</td>\n",
       "      <td>0.456488</td>\n",
       "      <td>0.085393</td>\n",
       "      <td>0.099274</td>\n",
       "      <td>0.712595</td>\n",
       "      <td>0.175410</td>\n",
       "      <td>0.180970</td>\n",
       "      <td>0.811440</td>\n",
       "      <td>0.229033</td>\n",
       "      <td>0.573145</td>\n",
       "      <td>...</td>\n",
       "      <td>0.567901</td>\n",
       "      <td>0.152608</td>\n",
       "      <td>0.997614</td>\n",
       "      <td>0.299942</td>\n",
       "      <td>0.476902</td>\n",
       "      <td>0.264865</td>\n",
       "      <td>0.654398</td>\n",
       "      <td>0.578228</td>\n",
       "      <td>0.426295</td>\n",
       "      <td>neutral</td>\n",
       "    </tr>\n",
       "    <tr>\n",
       "      <th>4</th>\n",
       "      <td>0.045266</td>\n",
       "      <td>0.383779</td>\n",
       "      <td>0.038214</td>\n",
       "      <td>0.042278</td>\n",
       "      <td>0.714882</td>\n",
       "      <td>0.040906</td>\n",
       "      <td>0.181542</td>\n",
       "      <td>0.898459</td>\n",
       "      <td>0.046304</td>\n",
       "      <td>0.432964</td>\n",
       "      <td>...</td>\n",
       "      <td>0.125052</td>\n",
       "      <td>0.085763</td>\n",
       "      <td>0.160444</td>\n",
       "      <td>0.933145</td>\n",
       "      <td>0.186585</td>\n",
       "      <td>0.548695</td>\n",
       "      <td>0.109561</td>\n",
       "      <td>0.061698</td>\n",
       "      <td>0.456410</td>\n",
       "      <td>surprise</td>\n",
       "    </tr>\n",
       "  </tbody>\n",
       "</table>\n",
       "<p>5 rows × 401 columns</p>\n",
       "</div>"
      ],
      "text/plain": [
       "          0         1         2         3         4         5         6  \\\n",
       "0  0.866356  0.614324  0.185344  0.111245  0.648110  0.578526  0.310698   \n",
       "1  0.243612  0.505836  0.535198  0.161876  0.447502  0.226764  0.244084   \n",
       "2  0.492822  0.384429  0.047081  0.670914  0.622658  0.485583  0.188774   \n",
       "3  0.357869  0.456488  0.085393  0.099274  0.712595  0.175410  0.180970   \n",
       "4  0.045266  0.383779  0.038214  0.042278  0.714882  0.040906  0.181542   \n",
       "\n",
       "          7         8         9  ...       391       392       393       394  \\\n",
       "0  0.152067  0.674275  0.442923  ...  0.968448  0.224236  0.653971  0.717273   \n",
       "1  0.231661  0.239147  0.658598  ...  0.345272  0.465961  0.338253  0.757522   \n",
       "2  0.921643  0.487226  0.546144  ...  0.313540  0.656917  0.473370  0.292813   \n",
       "3  0.811440  0.229033  0.573145  ...  0.567901  0.152608  0.997614  0.299942   \n",
       "4  0.898459  0.046304  0.432964  ...  0.125052  0.085763  0.160444  0.933145   \n",
       "\n",
       "        395       396       397       398       399    target  \n",
       "0  0.627245  0.388492  0.985613  0.311949  0.780483   neutral  \n",
       "1  0.324574  0.493105  0.331571  0.635806  0.263701   neutral  \n",
       "2  0.255299  0.369913  0.473489  0.878479  0.473124   neutral  \n",
       "3  0.476902  0.264865  0.654398  0.578228  0.426295   neutral  \n",
       "4  0.186585  0.548695  0.109561  0.061698  0.456410  surprise  \n",
       "\n",
       "[5 rows x 401 columns]"
      ]
     },
     "execution_count": 205,
     "metadata": {},
     "output_type": "execute_result"
    }
   ],
   "source": [
    "# combining train features and labels into 1 CSV for auto ML testing\n",
    "temp1 = pd.DataFrame(X_train_reduced)\n",
    "temp2 = train_df[['Emotion']]\n",
    "\n",
    "train_out = pd.concat([temp1, temp2], axis=1, ignore_index=True)\n",
    "\n",
    "train_out.rename(columns={400:'target'}, inplace=True)\n",
    "train_out.head()"
   ]
  },
  {
   "cell_type": "code",
   "execution_count": 206,
   "id": "d15477d4",
   "metadata": {},
   "outputs": [],
   "source": [
    "train_out.to_csv('data/train_out.csv', index=False)"
   ]
  },
  {
   "cell_type": "code",
   "execution_count": 207,
   "id": "6304aea6",
   "metadata": {},
   "outputs": [
    {
     "data": {
      "text/html": [
       "<div>\n",
       "<style scoped>\n",
       "    .dataframe tbody tr th:only-of-type {\n",
       "        vertical-align: middle;\n",
       "    }\n",
       "\n",
       "    .dataframe tbody tr th {\n",
       "        vertical-align: top;\n",
       "    }\n",
       "\n",
       "    .dataframe thead th {\n",
       "        text-align: right;\n",
       "    }\n",
       "</style>\n",
       "<table border=\"1\" class=\"dataframe\">\n",
       "  <thead>\n",
       "    <tr style=\"text-align: right;\">\n",
       "      <th></th>\n",
       "      <th>0</th>\n",
       "      <th>1</th>\n",
       "      <th>2</th>\n",
       "      <th>3</th>\n",
       "      <th>4</th>\n",
       "      <th>5</th>\n",
       "      <th>6</th>\n",
       "      <th>7</th>\n",
       "      <th>8</th>\n",
       "      <th>9</th>\n",
       "      <th>...</th>\n",
       "      <th>391</th>\n",
       "      <th>392</th>\n",
       "      <th>393</th>\n",
       "      <th>394</th>\n",
       "      <th>395</th>\n",
       "      <th>396</th>\n",
       "      <th>397</th>\n",
       "      <th>398</th>\n",
       "      <th>399</th>\n",
       "      <th>target</th>\n",
       "    </tr>\n",
       "  </thead>\n",
       "  <tbody>\n",
       "    <tr>\n",
       "      <th>0</th>\n",
       "      <td>0.366837</td>\n",
       "      <td>0.489585</td>\n",
       "      <td>0.304097</td>\n",
       "      <td>0.387441</td>\n",
       "      <td>0.564342</td>\n",
       "      <td>0.057354</td>\n",
       "      <td>0.248615</td>\n",
       "      <td>0.670358</td>\n",
       "      <td>0.309868</td>\n",
       "      <td>0.625212</td>\n",
       "      <td>...</td>\n",
       "      <td>0.908848</td>\n",
       "      <td>0.188460</td>\n",
       "      <td>0.348473</td>\n",
       "      <td>0.798020</td>\n",
       "      <td>0.343952</td>\n",
       "      <td>0.579691</td>\n",
       "      <td>0.701661</td>\n",
       "      <td>0.083819</td>\n",
       "      <td>0.194004</td>\n",
       "      <td>surprise</td>\n",
       "    </tr>\n",
       "    <tr>\n",
       "      <th>1</th>\n",
       "      <td>0.202844</td>\n",
       "      <td>0.734532</td>\n",
       "      <td>0.427303</td>\n",
       "      <td>0.020722</td>\n",
       "      <td>0.716076</td>\n",
       "      <td>0.208896</td>\n",
       "      <td>0.501804</td>\n",
       "      <td>0.122180</td>\n",
       "      <td>0.080992</td>\n",
       "      <td>0.489508</td>\n",
       "      <td>...</td>\n",
       "      <td>0.010371</td>\n",
       "      <td>0.501315</td>\n",
       "      <td>0.102205</td>\n",
       "      <td>0.718053</td>\n",
       "      <td>0.784799</td>\n",
       "      <td>0.308052</td>\n",
       "      <td>0.809099</td>\n",
       "      <td>0.254798</td>\n",
       "      <td>0.725492</td>\n",
       "      <td>anger</td>\n",
       "    </tr>\n",
       "    <tr>\n",
       "      <th>2</th>\n",
       "      <td>0.795905</td>\n",
       "      <td>0.333515</td>\n",
       "      <td>0.255933</td>\n",
       "      <td>0.308112</td>\n",
       "      <td>0.686258</td>\n",
       "      <td>0.650555</td>\n",
       "      <td>0.153213</td>\n",
       "      <td>0.869954</td>\n",
       "      <td>0.791233</td>\n",
       "      <td>0.598061</td>\n",
       "      <td>...</td>\n",
       "      <td>0.659105</td>\n",
       "      <td>0.675327</td>\n",
       "      <td>0.633307</td>\n",
       "      <td>0.556018</td>\n",
       "      <td>0.419217</td>\n",
       "      <td>0.382399</td>\n",
       "      <td>0.633581</td>\n",
       "      <td>0.496429</td>\n",
       "      <td>0.017109</td>\n",
       "      <td>neutral</td>\n",
       "    </tr>\n",
       "    <tr>\n",
       "      <th>3</th>\n",
       "      <td>0.807803</td>\n",
       "      <td>0.386059</td>\n",
       "      <td>0.351130</td>\n",
       "      <td>0.491587</td>\n",
       "      <td>0.785491</td>\n",
       "      <td>0.948802</td>\n",
       "      <td>0.138051</td>\n",
       "      <td>0.820162</td>\n",
       "      <td>0.435799</td>\n",
       "      <td>0.699574</td>\n",
       "      <td>...</td>\n",
       "      <td>0.956317</td>\n",
       "      <td>0.672169</td>\n",
       "      <td>0.715221</td>\n",
       "      <td>0.376253</td>\n",
       "      <td>0.933253</td>\n",
       "      <td>0.361340</td>\n",
       "      <td>0.715530</td>\n",
       "      <td>0.843297</td>\n",
       "      <td>0.654712</td>\n",
       "      <td>neutral</td>\n",
       "    </tr>\n",
       "    <tr>\n",
       "      <th>4</th>\n",
       "      <td>0.618324</td>\n",
       "      <td>0.400439</td>\n",
       "      <td>0.323686</td>\n",
       "      <td>0.325977</td>\n",
       "      <td>0.816765</td>\n",
       "      <td>0.812821</td>\n",
       "      <td>0.123878</td>\n",
       "      <td>0.895026</td>\n",
       "      <td>0.658316</td>\n",
       "      <td>0.569047</td>\n",
       "      <td>...</td>\n",
       "      <td>0.580578</td>\n",
       "      <td>0.430384</td>\n",
       "      <td>0.565957</td>\n",
       "      <td>0.884793</td>\n",
       "      <td>0.710847</td>\n",
       "      <td>0.537625</td>\n",
       "      <td>0.551684</td>\n",
       "      <td>0.769204</td>\n",
       "      <td>0.130550</td>\n",
       "      <td>joy</td>\n",
       "    </tr>\n",
       "  </tbody>\n",
       "</table>\n",
       "<p>5 rows × 401 columns</p>\n",
       "</div>"
      ],
      "text/plain": [
       "          0         1         2         3         4         5         6  \\\n",
       "0  0.366837  0.489585  0.304097  0.387441  0.564342  0.057354  0.248615   \n",
       "1  0.202844  0.734532  0.427303  0.020722  0.716076  0.208896  0.501804   \n",
       "2  0.795905  0.333515  0.255933  0.308112  0.686258  0.650555  0.153213   \n",
       "3  0.807803  0.386059  0.351130  0.491587  0.785491  0.948802  0.138051   \n",
       "4  0.618324  0.400439  0.323686  0.325977  0.816765  0.812821  0.123878   \n",
       "\n",
       "          7         8         9  ...       391       392       393       394  \\\n",
       "0  0.670358  0.309868  0.625212  ...  0.908848  0.188460  0.348473  0.798020   \n",
       "1  0.122180  0.080992  0.489508  ...  0.010371  0.501315  0.102205  0.718053   \n",
       "2  0.869954  0.791233  0.598061  ...  0.659105  0.675327  0.633307  0.556018   \n",
       "3  0.820162  0.435799  0.699574  ...  0.956317  0.672169  0.715221  0.376253   \n",
       "4  0.895026  0.658316  0.569047  ...  0.580578  0.430384  0.565957  0.884793   \n",
       "\n",
       "        395       396       397       398       399    target  \n",
       "0  0.343952  0.579691  0.701661  0.083819  0.194004  surprise  \n",
       "1  0.784799  0.308052  0.809099  0.254798  0.725492     anger  \n",
       "2  0.419217  0.382399  0.633581  0.496429  0.017109   neutral  \n",
       "3  0.933253  0.361340  0.715530  0.843297  0.654712   neutral  \n",
       "4  0.710847  0.537625  0.551684  0.769204  0.130550       joy  \n",
       "\n",
       "[5 rows x 401 columns]"
      ]
     },
     "execution_count": 207,
     "metadata": {},
     "output_type": "execute_result"
    }
   ],
   "source": [
    "# combine test features / labels into 1 CSV for auto ML testing\n",
    "temp1 = pd.DataFrame(X_test_reduced)\n",
    "temp2 = test_df[['Emotion']]\n",
    "\n",
    "test_out = pd.concat([temp1, temp2], axis=1, ignore_index=True)\n",
    "\n",
    "test_out.rename(columns={400: 'target'}, inplace=True)\n",
    "test_out.head()"
   ]
  },
  {
   "cell_type": "code",
   "execution_count": 208,
   "id": "695b482c",
   "metadata": {},
   "outputs": [],
   "source": [
    "test_out.to_csv('data/test_out.csv', index=False)"
   ]
  },
  {
   "cell_type": "code",
   "execution_count": null,
   "id": "9636faf9",
   "metadata": {},
   "outputs": [],
   "source": []
  }
 ],
 "metadata": {
  "kernelspec": {
   "display_name": "Python 3 (ipykernel)",
   "language": "python",
   "name": "python3"
  },
  "language_info": {
   "codemirror_mode": {
    "name": "ipython",
    "version": 3
   },
   "file_extension": ".py",
   "mimetype": "text/x-python",
   "name": "python",
   "nbconvert_exporter": "python",
   "pygments_lexer": "ipython3",
   "version": "3.8.10"
  }
 },
 "nbformat": 4,
 "nbformat_minor": 5
}
