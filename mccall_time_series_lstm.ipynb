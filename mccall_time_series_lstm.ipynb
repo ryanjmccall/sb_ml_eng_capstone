{
 "cells": [
  {
   "cell_type": "markdown",
   "id": "94e646c3-7821-4ce4-9c35-2e0c7702cc4e",
   "metadata": {},
   "source": [
    "Source: https://www.altumintelligence.com/articles/a/Time-Series-Prediction-Using-LSTM-Deep-Neural-Networks\n",
    "\n",
    " This article focuses on using a Deep LSTM Neural Network architecture to provide multidimensional time series forecasting using Keras and Tensorflow - specifically on stock market datasets to provide momentum indicators of stock price.\n",
    "\n",
    "The code for this framework can be found in the following GitHub repo (it assumes python version 3.5.x and the requirement versions in the requirements.txt file. Deviating from these versions might cause errors): https://github.com/jaungiers/LSTM-Neural-Network-for-Time-Series-Prediction\n",
    "\n",
    "The following article sections will briefly touch on LSTM neuron cells, give a toy example of predicting a sine wave then walk through the application to a stochastic time series. The article assumes a basic working knowledge of simple deep neural networks. "
   ]
  },
  {
   "cell_type": "code",
   "execution_count": 1,
   "id": "fcf2beee-b8c7-4aa6-9a39-fcfff2192a22",
   "metadata": {},
   "outputs": [],
   "source": [
    "import numpy as np \n",
    "import pandas as pd\n",
    "\n",
    "class DataLoader():\n",
    "\n",
    "\tdef __init__(self, filename, split, cols):\n",
    "\t\tdataframe = pd.read_csv(filename)\n",
    "\t\ti_split = int(len(dataframe) * split)\n",
    "\t\tself.data_train = dataframe.get(cols).values[:i_split]\n",
    "\t\tself.data_test  = dataframe.get(cols).values[i_split:]\n",
    "\t\tself.len_train  = len(self.data_train)\n",
    "\t\tself.len_test   = len(self.data_test)\n",
    "\t\tself.len_train_windows = None\n",
    "\n",
    "\tdef get_train_data(self, seq_len, normalise):\n",
    "\t\tdata_x = []\n",
    "\t\tdata_y = []\n",
    "\t\tfor i in range(self.len_train - seq_len):\n",
    "\t\t\tx, y = self._next_window(i, seq_len, normalise)\n",
    "\t\t\tdata_x.append(x)\n",
    "\t\t\tdata_y.append(y)\n",
    "\t\treturn np.array(data_x), np.array(data_y)"
   ]
  },
  {
   "cell_type": "code",
   "execution_count": 2,
   "id": "cdf6e239-cd03-4521-9c5f-2d1f34c53d9c",
   "metadata": {},
   "outputs": [],
   "source": [
    "class Model():\n",
    "\n",
    "\tdef __init__(self):\n",
    "\t\tself.model = Sequential()\n",
    "\n",
    "\tdef build_model(self, configs):\n",
    "\t\ttimer = Timer()\n",
    "\t\ttimer.start()\n",
    "\n",
    "\t\tfor layer in configs['model']['layers']:\n",
    "\t\t\tneurons = layer['neurons'] if 'neurons' in layer else None\n",
    "\t\t\tdropout_rate = layer['rate'] if 'rate' in layer else None\n",
    "\t\t\tactivation = layer['activation'] if 'activation' in layer else None\n",
    "\t\t\treturn_seq = layer['return_seq'] if 'return_seq' in layer else None\n",
    "\t\t\tinput_timesteps = layer['input_timesteps'] if 'input_timesteps' in layer else None\n",
    "\t\t\tinput_dim = layer['input_dim'] if 'input_dim' in layer else None\n",
    "\n",
    "\t\t\tif layer['type'] == 'dense':\n",
    "\t\t\t\tself.model.add(Dense(neurons, activation=activation))\n",
    "\t\t\tif layer['type'] == 'lstm':\n",
    "\t\t\t\tself.model.add(LSTM(neurons, input_shape=(input_timesteps, input_dim), return_sequences=return_seq))\n",
    "\t\t\tif layer['type'] == 'dropout':\n",
    "\t\t\t\tself.model.add(Dropout(dropout_rate))\n",
    "\n",
    "\t\tself.model.compile(loss=configs['model']['loss'], optimizer=configs['model']['optimizer'])\n",
    "\n",
    "\t\tprint('[Model] Model Compiled')\n",
    "\t\ttimer.stop()"
   ]
  },
  {
   "cell_type": "code",
   "execution_count": 4,
   "id": "9cf6de85-9ff1-4121-93ef-56506a6c35b4",
   "metadata": {},
   "outputs": [
    {
     "ename": "FileNotFoundError",
     "evalue": "[Errno 2] No such file or directory: 'config.json'",
     "output_type": "error",
     "traceback": [
      "\u001b[0;31m---------------------------------------------------------------------------\u001b[0m",
      "\u001b[0;31mFileNotFoundError\u001b[0m                         Traceback (most recent call last)",
      "\u001b[0;32m/var/folders/39/glh0vc5x3qq23jgtd82s68200000gn/T/ipykernel_77181/3397398672.py\u001b[0m in \u001b[0;36m<module>\u001b[0;34m\u001b[0m\n\u001b[1;32m      1\u001b[0m \u001b[0;32mimport\u001b[0m \u001b[0mjson\u001b[0m\u001b[0;34m\u001b[0m\u001b[0;34m\u001b[0m\u001b[0m\n\u001b[1;32m      2\u001b[0m \u001b[0;34m\u001b[0m\u001b[0m\n\u001b[0;32m----> 3\u001b[0;31m \u001b[0mconfigs\u001b[0m \u001b[0;34m=\u001b[0m \u001b[0mjson\u001b[0m\u001b[0;34m.\u001b[0m\u001b[0mload\u001b[0m\u001b[0;34m(\u001b[0m\u001b[0mopen\u001b[0m\u001b[0;34m(\u001b[0m\u001b[0;34m'config.json'\u001b[0m\u001b[0;34m,\u001b[0m \u001b[0;34m'r'\u001b[0m\u001b[0;34m)\u001b[0m\u001b[0;34m)\u001b[0m\u001b[0;34m\u001b[0m\u001b[0;34m\u001b[0m\u001b[0m\n\u001b[0m\u001b[1;32m      4\u001b[0m \u001b[0;34m\u001b[0m\u001b[0m\n\u001b[1;32m      5\u001b[0m data = DataLoader(\n",
      "\u001b[0;31mFileNotFoundError\u001b[0m: [Errno 2] No such file or directory: 'config.json'"
     ]
    }
   ],
   "source": [
    "import json\n",
    "\n",
    "configs = json.load(open('config.json', 'r'))\n",
    "\n",
    "data = DataLoader(\n",
    "\tos.path.join('data', configs['data']['filename']),\n",
    "\tconfigs['data']['train_test_split'],\n",
    "\tconfigs['data']['columns']\n",
    ")\n",
    "\n",
    "model = Model()\n",
    "model.build_model(configs)\n",
    "x, y = data.get_train_data(\n",
    "\tseq_len = configs['data']['sequence_length'],\n",
    "\tnormalise = configs['data']['normalise']\n",
    ")\n",
    "\n",
    "model.train(\n",
    "\tx,\n",
    "\ty,\n",
    "\tepochs = configs['training']['epochs'],\n",
    "\tbatch_size = configs['training']['batch_size']\n",
    ")\n",
    "\n",
    "x_test, y_test = data.get_test_data(\n",
    "\tseq_len = configs['data']['sequence_length'],\n",
    "\tnormalise = configs['data']['normalise']\n",
    ")"
   ]
  },
  {
   "cell_type": "code",
   "execution_count": null,
   "id": "6798b4fa-76bc-44c3-b347-d7a24dfefc5e",
   "metadata": {},
   "outputs": [],
   "source": []
  }
 ],
 "metadata": {
  "kernelspec": {
   "display_name": "py38",
   "language": "python",
   "name": "py38"
  },
  "language_info": {
   "codemirror_mode": {
    "name": "ipython",
    "version": 3
   },
   "file_extension": ".py",
   "mimetype": "text/x-python",
   "name": "python",
   "nbconvert_exporter": "python",
   "pygments_lexer": "ipython3",
   "version": "3.8.12"
  }
 },
 "nbformat": 4,
 "nbformat_minor": 5
}
