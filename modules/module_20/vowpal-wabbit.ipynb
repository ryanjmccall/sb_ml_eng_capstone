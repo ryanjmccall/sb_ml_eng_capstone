{
 "cells": [
  {
   "cell_type": "markdown",
   "id": "e3b2c828-81ac-45f0-a713-d0b1f89577c0",
   "metadata": {},
   "source": [
    "Source: https://analyticsindiamag.com/guide-to-vowpal-wabbit-a-state-of-the-art-library-for-interactive-machine-learning/"
   ]
  },
  {
   "cell_type": "code",
   "execution_count": 5,
   "id": "d129e09e-3094-4dfb-b096-eaf5fb88d6f5",
   "metadata": {},
   "outputs": [],
   "source": [
    "import numpy as np\n",
    "import pandas as pd\n",
    "import sklearn \n",
    "from vowpalwabbit import pyvw "
   ]
  },
  {
   "cell_type": "code",
   "execution_count": 6,
   "id": "d90c3c39-b751-4b58-8a80-afb9d0537dbd",
   "metadata": {},
   "outputs": [],
   "source": [
    "training_data =[{'action': 1, 'cost': 2, 'prob': 0.3, 'f1': 'a', 'f2': 'c', 'f3': ''}, {'action': 3, 'cost': 1, 'prob': 0.2, 'f1': 'b', 'f2': 'd', 'f3': ''}, {'action': 4, 'cost': 0, 'prob': 0.6, 'f1': 'a', 'f2': 'b', 'f3': ''},\n",
    "{'action': 2, 'cost': 1, 'prob': 0.4, 'f1': 'a', 'f2': 'b', 'f3': 'c'},\n",
    "{'action': 3, 'cost': 2, 'prob': 0.7, 'f1': 'a', 'f2': 'd', 'f3': ''}] "
   ]
  },
  {
   "cell_type": "code",
   "execution_count": 7,
   "id": "05c1697c-84c3-4b11-9faa-8f0df7a71e55",
   "metadata": {},
   "outputs": [],
   "source": [
    "training_df = pd.DataFrame(training_data)\n",
    "\n",
    "# create a column named ‘index’\n",
    "training_df['index'] = range(1, len(training_df) + 1)\n",
    "# set the newly created column as the index column\n",
    "training_df = training_df.set_index(\"index\") "
   ]
  },
  {
   "cell_type": "code",
   "execution_count": 8,
   "id": "13f44b2c-2245-45f7-b54c-bda749ffeef8",
   "metadata": {},
   "outputs": [],
   "source": [
    "testing_data = [{'f1': 'b', 'f2': 'c', 'f3': ''},\n",
    "             {'f1': 'a', 'f2': '', 'f3': 'b'},\n",
    "             {'f1': 'b', 'f2': 'b', 'f3': ''},\n",
    "             {'f1': 'a', 'f2': '', 'f3': 'b'}]\n",
    "testing_df = pd.DataFrame(testing_data)\n",
    "# Add index to data frame\n",
    "testing_df['index'] = range(1, len(testing_df) + 1)\n",
    "testing_df = testing_df.set_index(\"index\") "
   ]
  },
  {
   "cell_type": "code",
   "execution_count": 9,
   "id": "6828c761-8ead-42bf-911a-72c1eecb9180",
   "metadata": {},
   "outputs": [],
   "source": [
    "testing_data = [{'f1': 'b', 'f2': 'c', 'f3': ''},\n",
    "         {'f1': 'a', 'f2': '', 'f3': 'b'},\n",
    "         {'f1': 'b', 'f2': 'b', 'f3': ''},\n",
    "         {'f1': 'a', 'f2': '', 'f3': 'b'}]\n",
    "testing_df = pd.DataFrame(testing_data)\n",
    "# Add index to data frame\n",
    "testing_df['index'] = range(1, len(testing_df) + 1)\n",
    "testing_df = testing_df.set_index(\"index\") "
   ]
  },
  {
   "cell_type": "code",
   "execution_count": 10,
   "id": "56af4532-a78d-40fc-9c79-b2a5fdb2fe42",
   "metadata": {},
   "outputs": [
    {
     "name": "stderr",
     "output_type": "stream",
     "text": [
      "Num weight bits = 18\n",
      "learning rate = 0.5\n",
      "initial_t = 0\n",
      "power_t = 0.5\n",
      "using no cache\n",
      "Reading datafile = \n",
      "num sources = 1\n",
      "Enabled reductions: gd, scorer, csoaa_ldf, cb_adf, shared_feature_merger, cb_to_cbadf\n",
      "average  since         example        example  current  current  current\n",
      "loss     last          counter         weight    label  predict features\n"
     ]
    }
   ],
   "source": [
    "vw = pyvw.vw(\"--cb 4\")"
   ]
  },
  {
   "cell_type": "code",
   "execution_count": 15,
   "id": "8dc38d86-fa7f-4592-8ab8-7f6c805d7719",
   "metadata": {},
   "outputs": [
    {
     "name": "stderr",
     "output_type": "stream",
     "text": [
      "1.145833 0.000000            8            8.0  3:0:0.6        3:0...       12\n"
     ]
    }
   ],
   "source": [
    "#Extract action, its cost, probability and features of each training sample\n",
    "for i in training_df.index:\n",
    "    action = training_df.loc[i, \"action\"]\n",
    "    cost = training_df.loc[i, \"cost\"]\n",
    "    probability = training_df.loc[i, \"prob\"]\n",
    "    feature1 = training_df.loc[i, \"f1\"]\n",
    "    feature2 = training_df.loc[i, \"f2\"]\n",
    "    feature3 = training_df.loc[i, \"f3\"]\n",
    "\n",
    "    # Construct the ith example in the required vw format.\n",
    "    learn_ex = (str(action) + \":\" + str(cost) + \":\" + str(probability) + \n",
    "                \" | \" + str(feature1) + \" \" + str(feature2) + \" \" + str(feature3))\n",
    "\n",
    "    #Perform actual learning by calling learn() on the ith example\n",
    "    vw.learn(learn_ex) "
   ]
  },
  {
   "cell_type": "code",
   "execution_count": null,
   "id": "54d0657d-f9a2-4ee3-9e8b-1dff1679e6c1",
   "metadata": {},
   "outputs": [],
   "source": []
  }
 ],
 "metadata": {
  "kernelspec": {
   "display_name": "py37",
   "language": "python",
   "name": "py37"
  },
  "language_info": {
   "codemirror_mode": {
    "name": "ipython",
    "version": 3
   },
   "file_extension": ".py",
   "mimetype": "text/x-python",
   "name": "python",
   "nbconvert_exporter": "python",
   "pygments_lexer": "ipython3",
   "version": "3.7.12"
  }
 },
 "nbformat": 4,
 "nbformat_minor": 5
}
