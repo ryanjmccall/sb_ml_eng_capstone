{
 "cells": [
  {
   "cell_type": "code",
   "execution_count": 1,
   "id": "2c3b9a74",
   "metadata": {},
   "outputs": [],
   "source": [
    "import pandas as pd\n",
    "import numpy as np \n",
    "import seaborn as sns\n",
    "import matplotlib.pyplot as plt"
   ]
  },
  {
   "cell_type": "code",
   "execution_count": 8,
   "id": "be01fbf8",
   "metadata": {},
   "outputs": [],
   "source": [
    "cols = ['loan_amnt', 'int_rate', 'installment']\n",
    "data = pd.read_csv('data/lc_loan.csv', nrows = 30000, usecols = cols)"
   ]
  },
  {
   "cell_type": "code",
   "execution_count": 9,
   "id": "e1473ef1",
   "metadata": {},
   "outputs": [
    {
     "data": {
      "text/html": [
       "<div>\n",
       "<style scoped>\n",
       "    .dataframe tbody tr th:only-of-type {\n",
       "        vertical-align: middle;\n",
       "    }\n",
       "\n",
       "    .dataframe tbody tr th {\n",
       "        vertical-align: top;\n",
       "    }\n",
       "\n",
       "    .dataframe thead th {\n",
       "        text-align: right;\n",
       "    }\n",
       "</style>\n",
       "<table border=\"1\" class=\"dataframe\">\n",
       "  <thead>\n",
       "    <tr style=\"text-align: right;\">\n",
       "      <th></th>\n",
       "      <th>loan_amnt</th>\n",
       "      <th>int_rate</th>\n",
       "      <th>installment</th>\n",
       "    </tr>\n",
       "  </thead>\n",
       "  <tbody>\n",
       "    <tr>\n",
       "      <th>count</th>\n",
       "      <td>30000.000000</td>\n",
       "      <td>30000.000000</td>\n",
       "      <td>30000.000000</td>\n",
       "    </tr>\n",
       "    <tr>\n",
       "      <th>mean</th>\n",
       "      <td>11625.541667</td>\n",
       "      <td>12.099109</td>\n",
       "      <td>323.002519</td>\n",
       "    </tr>\n",
       "    <tr>\n",
       "      <th>std</th>\n",
       "      <td>7805.452627</td>\n",
       "      <td>4.016570</td>\n",
       "      <td>209.120541</td>\n",
       "    </tr>\n",
       "    <tr>\n",
       "      <th>min</th>\n",
       "      <td>1000.000000</td>\n",
       "      <td>5.420000</td>\n",
       "      <td>19.870000</td>\n",
       "    </tr>\n",
       "    <tr>\n",
       "      <th>25%</th>\n",
       "      <td>5600.000000</td>\n",
       "      <td>8.880000</td>\n",
       "      <td>166.050000</td>\n",
       "    </tr>\n",
       "    <tr>\n",
       "      <th>50%</th>\n",
       "      <td>10000.000000</td>\n",
       "      <td>11.860000</td>\n",
       "      <td>280.000000</td>\n",
       "    </tr>\n",
       "    <tr>\n",
       "      <th>75%</th>\n",
       "      <td>15000.000000</td>\n",
       "      <td>15.200000</td>\n",
       "      <td>424.800000</td>\n",
       "    </tr>\n",
       "    <tr>\n",
       "      <th>max</th>\n",
       "      <td>35000.000000</td>\n",
       "      <td>24.590000</td>\n",
       "      <td>1305.190000</td>\n",
       "    </tr>\n",
       "  </tbody>\n",
       "</table>\n",
       "</div>"
      ],
      "text/plain": [
       "          loan_amnt      int_rate   installment\n",
       "count  30000.000000  30000.000000  30000.000000\n",
       "mean   11625.541667     12.099109    323.002519\n",
       "std     7805.452627      4.016570    209.120541\n",
       "min     1000.000000      5.420000     19.870000\n",
       "25%     5600.000000      8.880000    166.050000\n",
       "50%    10000.000000     11.860000    280.000000\n",
       "75%    15000.000000     15.200000    424.800000\n",
       "max    35000.000000     24.590000   1305.190000"
      ]
     },
     "execution_count": 9,
     "metadata": {},
     "output_type": "execute_result"
    }
   ],
   "source": [
    "data.describe()"
   ]
  },
  {
   "cell_type": "code",
   "execution_count": 10,
   "id": "2d8a096f",
   "metadata": {},
   "outputs": [],
   "source": [
    "# standardization\n",
    "from sklearn.preprocessing import StandardScaler\n",
    "scaler = StandardScaler()\n",
    "data_scaled = scaler.fit_transform(data)"
   ]
  },
  {
   "cell_type": "code",
   "execution_count": 12,
   "id": "b0fa8838",
   "metadata": {},
   "outputs": [
    {
     "name": "stdout",
     "output_type": "stream",
     "text": [
      "<class 'numpy.ndarray'>\n",
      "[ 7.57912251e-17 -7.44648787e-16 -3.03164901e-17]\n",
      "[1. 1. 1.]\n"
     ]
    }
   ],
   "source": [
    "print(type(data_scaled))\n",
    "print(data_scaled.mean(axis=0))\n",
    "print(data_scaled.std(axis=0))"
   ]
  },
  {
   "cell_type": "code",
   "execution_count": 13,
   "id": "6246347e",
   "metadata": {},
   "outputs": [
    {
     "name": "stdout",
     "output_type": "stream",
     "text": [
      "['loan_amnt', 'int_rate', 'installment']\n",
      "[-1.36132    -1.66291618 -1.44958295]\n",
      "[2.99468193 3.10989181 4.69683105]\n"
     ]
    }
   ],
   "source": [
    "print(cols)\n",
    "print(data_scaled.min(axis=0))\n",
    "print(data_scaled.max(axis=0))"
   ]
  },
  {
   "cell_type": "code",
   "execution_count": 14,
   "id": "9b93c8b1",
   "metadata": {},
   "outputs": [],
   "source": [
    "# normalization\n",
    "# xnorm = (X - Xmin) / (Xmax - Xmin)\n",
    "from sklearn.preprocessing import MinMaxScaler\n",
    "scaler = MinMaxScaler()\n",
    "scaled = scaler.fit_transform(data)"
   ]
  },
  {
   "cell_type": "code",
   "execution_count": 15,
   "id": "e135ec03",
   "metadata": {},
   "outputs": [
    {
     "name": "stdout",
     "output_type": "stream",
     "text": [
      "['loan_amnt', 'int_rate', 'installment']\n",
      "[0.31251593 0.34841464 0.23584206]\n",
      "[0.22956831 0.20952027 0.16269649]\n"
     ]
    }
   ],
   "source": [
    "print(cols)\n",
    "print(scaled.mean(axis=0))\n",
    "print(scaled.std(axis=0))"
   ]
  },
  {
   "cell_type": "code",
   "execution_count": 16,
   "id": "c1a1fb77",
   "metadata": {},
   "outputs": [
    {
     "name": "stdout",
     "output_type": "stream",
     "text": [
      "['loan_amnt', 'int_rate', 'installment']\n",
      "[0. 0. 0.]\n",
      "[1. 1. 1.]\n"
     ]
    }
   ],
   "source": [
    "print(cols)\n",
    "print(scaled.min(axis=0))\n",
    "print(scaled.max(axis=0))"
   ]
  },
  {
   "cell_type": "code",
   "execution_count": 20,
   "id": "29da0d19",
   "metadata": {},
   "outputs": [],
   "source": [
    "# Robust scalar (scaling to median and quantiles)\n",
    "# IQR = 75th quantile - 25th quantile\n",
    "# X_scale = (X - X.median) / IGR\n",
    "\n",
    "from sklearn.preprocessing import RobustScaler\n",
    "scaler = RobustScaler()\n",
    "scaled = scaler.fit_transform(data)"
   ]
  },
  {
   "cell_type": "code",
   "execution_count": 19,
   "id": "48209970",
   "metadata": {},
   "outputs": [
    {
     "name": "stdout",
     "output_type": "stream",
     "text": [
      "['loan_amnt', 'int_rate', 'installment']\n",
      "[0.17292996 0.03783365 0.16619331]\n",
      "[0.83035346 0.6355227  0.80818186]\n",
      "[-0.95744681 -1.01898734 -1.00533333]\n",
      "[2.65957447 2.01424051 3.96208696]\n"
     ]
    }
   ],
   "source": [
    "def print_stats(X):\n",
    "    print(cols)\n",
    "    print(X.mean(axis=0))\n",
    "    print(X.std(axis=0))\n",
    "    print(X.min(axis=0))\n",
    "    print(X.max(axis=0))\n",
    "    \n",
    "print_stats(scaled)"
   ]
  },
  {
   "cell_type": "code",
   "execution_count": null,
   "id": "401112cb",
   "metadata": {},
   "outputs": [],
   "source": []
  }
 ],
 "metadata": {
  "kernelspec": {
   "display_name": "Python 3 (ipykernel)",
   "language": "python",
   "name": "python3"
  },
  "language_info": {
   "codemirror_mode": {
    "name": "ipython",
    "version": 3
   },
   "file_extension": ".py",
   "mimetype": "text/x-python",
   "name": "python",
   "nbconvert_exporter": "python",
   "pygments_lexer": "ipython3",
   "version": "3.8.10"
  }
 },
 "nbformat": 4,
 "nbformat_minor": 5
}
